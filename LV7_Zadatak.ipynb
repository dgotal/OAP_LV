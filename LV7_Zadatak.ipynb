{
  "cells": [
    {
      "cell_type": "markdown",
      "metadata": {
        "id": "dDtnXe_Wjxx3"
      },
      "source": [
        "# **Laboratorijska vježba 7**: Zadaci za samostalni rad\n",
        "\n",
        "## **Predviđanje udomljavanja životinja**\n",
        "\n",
        "U ovoj laboratorijskoj vježbi istražit ćemo skup podataka koji sadrži podatke o životinjama iz skloništa za životinje. Cilj je izgraditi i trenirati algoritam strojnog učenja koji će predvidjeti hoće li životinja iz skloništa biti udomljena ili ne. Skup podataka sadrži sljedeće značajke:\n",
        "\n",
        "* animal_type - tip životinje\n",
        "* intake_year - godina primanja u sklonište\n",
        "* intake_condition - stanje životinje pri primanju u sklonište\n",
        "* intake_number - broj slučajeva kada je ista životinja dovedena u sklonište\n",
        "* intake_type - tip donošenja u sklonište (primjerice, zalutala životinja, dobrovoljna predaja vlasnika,...)\n",
        "* sex_upon_intake - spol životinje i informacija o kastriranju pri primanju\n",
        "* age_upon_intake - dob životinje pri primanju\n",
        "* time_in_shelter_days - broj dana koja je životinja provela u skloništu\n",
        "* sex_upon_outcome - spol životinje i informacija o kastriranju pri donošenju odluke o udomljavanju\n",
        "* age_upon_outcome - dob životinje pri donošenju odluke o udomljavanju\n",
        "* outcome_type - odluka o udomljavanju"
      ]
    },
    {
      "cell_type": "code",
      "execution_count": null,
      "metadata": {
        "id": "hTq9_pbWl34Y"
      },
      "outputs": [],
      "source": [
        "import numpy as np\n",
        "import matplotlib.pyplot as plt\n",
        "import pandas as pd\n",
        "import scipy as sp\n",
        "import seaborn as sn\n",
        "from sklearn.preprocessing import MinMaxScaler\n",
        "from sklearn.model_selection import train_test_split\n",
        "from sklearn.tree import DecisionTreeClassifier\n",
        "from sklearn.svm import SVC\n",
        "from sklearn.neighbors import KNeighborsClassifier\n",
        "from sklearn.linear_model import LogisticRegression\n",
        "from sklearn.model_selection import GridSearchCV\n",
        "#Zadatak 1\n",
        "from sklearn.preprocessing import OneHotEncoder\n",
        "\n",
        "#Zadatak 2\n",
        "from sklearn.model_selection import train_test_split\n",
        "from sklearn import tree\n",
        "from sklearn.neighbors import KNeighborsClassifier\n",
        "from sklearn.linear_model import LogisticRegression\n",
        "from sklearn.svm import SVC\n",
        "from sklearn.model_selection import GridSearchCV\n",
        "from sklearn.metrics import accuracy_score\n",
        "\n",
        "from sklearn.feature_selection import SelectKBest, mutual_info_classif, f_classif\n",
        "\n",
        "#Zadatak 4\n",
        "from sklearn.feature_selection import SequentialFeatureSelector\n",
        "\n",
        "#Zadatak 5\n",
        "from imblearn.over_sampling import RandomOverSampler\n",
        "\n",
        "%matplotlib inline\n",
        "\n",
        "data_folder = './Data/'"
      ]
    },
    {
      "cell_type": "code",
      "execution_count": null,
      "metadata": {
        "colab": {
          "base_uri": "https://localhost:8080/",
          "height": 357
        },
        "id": "GA82imTtl9Z1",
        "outputId": "decbb405-15d2-4265-f6d3-464934f932f7"
      },
      "outputs": [
        {
          "output_type": "execute_result",
          "data": {
            "text/plain": [
              "  animal_type  intake_year intake_condition  intake_number      intake_type  \\\n",
              "0         Dog         2017           Normal            1.0            Stray   \n",
              "1         Dog         2014           Normal            2.0    Public Assist   \n",
              "2         Dog         2014           Normal            3.0    Public Assist   \n",
              "3         Dog         2014           Normal            1.0  Owner Surrender   \n",
              "4         Dog         2013          Injured            1.0    Public Assist   \n",
              "\n",
              "  sex_upon_intake  age_upon_intake_(years)  time_in_shelter_days  \\\n",
              "0   Neutered Male                     10.0              0.588194   \n",
              "1   Neutered Male                      7.0              1.259722   \n",
              "2   Neutered Male                      6.0              1.113889   \n",
              "3   Neutered Male                     10.0              4.970139   \n",
              "4   Neutered Male                     16.0              0.119444   \n",
              "\n",
              "  sex_upon_outcome  age_upon_outcome_(years)     outcome_type  \n",
              "0    Neutered Male                      10.0  Return to Owner  \n",
              "1    Neutered Male                       7.0  Return to Owner  \n",
              "2    Neutered Male                       6.0  Return to Owner  \n",
              "3    Neutered Male                      10.0         Transfer  \n",
              "4    Neutered Male                      16.0  Return to Owner  "
            ],
            "text/html": [
              "\n",
              "  <div id=\"df-7e8e27f9-0389-4ebb-829a-ef3e2ab62eaf\">\n",
              "    <div class=\"colab-df-container\">\n",
              "      <div>\n",
              "<style scoped>\n",
              "    .dataframe tbody tr th:only-of-type {\n",
              "        vertical-align: middle;\n",
              "    }\n",
              "\n",
              "    .dataframe tbody tr th {\n",
              "        vertical-align: top;\n",
              "    }\n",
              "\n",
              "    .dataframe thead th {\n",
              "        text-align: right;\n",
              "    }\n",
              "</style>\n",
              "<table border=\"1\" class=\"dataframe\">\n",
              "  <thead>\n",
              "    <tr style=\"text-align: right;\">\n",
              "      <th></th>\n",
              "      <th>animal_type</th>\n",
              "      <th>intake_year</th>\n",
              "      <th>intake_condition</th>\n",
              "      <th>intake_number</th>\n",
              "      <th>intake_type</th>\n",
              "      <th>sex_upon_intake</th>\n",
              "      <th>age_upon_intake_(years)</th>\n",
              "      <th>time_in_shelter_days</th>\n",
              "      <th>sex_upon_outcome</th>\n",
              "      <th>age_upon_outcome_(years)</th>\n",
              "      <th>outcome_type</th>\n",
              "    </tr>\n",
              "  </thead>\n",
              "  <tbody>\n",
              "    <tr>\n",
              "      <th>0</th>\n",
              "      <td>Dog</td>\n",
              "      <td>2017</td>\n",
              "      <td>Normal</td>\n",
              "      <td>1.0</td>\n",
              "      <td>Stray</td>\n",
              "      <td>Neutered Male</td>\n",
              "      <td>10.0</td>\n",
              "      <td>0.588194</td>\n",
              "      <td>Neutered Male</td>\n",
              "      <td>10.0</td>\n",
              "      <td>Return to Owner</td>\n",
              "    </tr>\n",
              "    <tr>\n",
              "      <th>1</th>\n",
              "      <td>Dog</td>\n",
              "      <td>2014</td>\n",
              "      <td>Normal</td>\n",
              "      <td>2.0</td>\n",
              "      <td>Public Assist</td>\n",
              "      <td>Neutered Male</td>\n",
              "      <td>7.0</td>\n",
              "      <td>1.259722</td>\n",
              "      <td>Neutered Male</td>\n",
              "      <td>7.0</td>\n",
              "      <td>Return to Owner</td>\n",
              "    </tr>\n",
              "    <tr>\n",
              "      <th>2</th>\n",
              "      <td>Dog</td>\n",
              "      <td>2014</td>\n",
              "      <td>Normal</td>\n",
              "      <td>3.0</td>\n",
              "      <td>Public Assist</td>\n",
              "      <td>Neutered Male</td>\n",
              "      <td>6.0</td>\n",
              "      <td>1.113889</td>\n",
              "      <td>Neutered Male</td>\n",
              "      <td>6.0</td>\n",
              "      <td>Return to Owner</td>\n",
              "    </tr>\n",
              "    <tr>\n",
              "      <th>3</th>\n",
              "      <td>Dog</td>\n",
              "      <td>2014</td>\n",
              "      <td>Normal</td>\n",
              "      <td>1.0</td>\n",
              "      <td>Owner Surrender</td>\n",
              "      <td>Neutered Male</td>\n",
              "      <td>10.0</td>\n",
              "      <td>4.970139</td>\n",
              "      <td>Neutered Male</td>\n",
              "      <td>10.0</td>\n",
              "      <td>Transfer</td>\n",
              "    </tr>\n",
              "    <tr>\n",
              "      <th>4</th>\n",
              "      <td>Dog</td>\n",
              "      <td>2013</td>\n",
              "      <td>Injured</td>\n",
              "      <td>1.0</td>\n",
              "      <td>Public Assist</td>\n",
              "      <td>Neutered Male</td>\n",
              "      <td>16.0</td>\n",
              "      <td>0.119444</td>\n",
              "      <td>Neutered Male</td>\n",
              "      <td>16.0</td>\n",
              "      <td>Return to Owner</td>\n",
              "    </tr>\n",
              "  </tbody>\n",
              "</table>\n",
              "</div>\n",
              "      <button class=\"colab-df-convert\" onclick=\"convertToInteractive('df-7e8e27f9-0389-4ebb-829a-ef3e2ab62eaf')\"\n",
              "              title=\"Convert this dataframe to an interactive table.\"\n",
              "              style=\"display:none;\">\n",
              "        \n",
              "  <svg xmlns=\"http://www.w3.org/2000/svg\" height=\"24px\"viewBox=\"0 0 24 24\"\n",
              "       width=\"24px\">\n",
              "    <path d=\"M0 0h24v24H0V0z\" fill=\"none\"/>\n",
              "    <path d=\"M18.56 5.44l.94 2.06.94-2.06 2.06-.94-2.06-.94-.94-2.06-.94 2.06-2.06.94zm-11 1L8.5 8.5l.94-2.06 2.06-.94-2.06-.94L8.5 2.5l-.94 2.06-2.06.94zm10 10l.94 2.06.94-2.06 2.06-.94-2.06-.94-.94-2.06-.94 2.06-2.06.94z\"/><path d=\"M17.41 7.96l-1.37-1.37c-.4-.4-.92-.59-1.43-.59-.52 0-1.04.2-1.43.59L10.3 9.45l-7.72 7.72c-.78.78-.78 2.05 0 2.83L4 21.41c.39.39.9.59 1.41.59.51 0 1.02-.2 1.41-.59l7.78-7.78 2.81-2.81c.8-.78.8-2.07 0-2.86zM5.41 20L4 18.59l7.72-7.72 1.47 1.35L5.41 20z\"/>\n",
              "  </svg>\n",
              "      </button>\n",
              "      \n",
              "  <style>\n",
              "    .colab-df-container {\n",
              "      display:flex;\n",
              "      flex-wrap:wrap;\n",
              "      gap: 12px;\n",
              "    }\n",
              "\n",
              "    .colab-df-convert {\n",
              "      background-color: #E8F0FE;\n",
              "      border: none;\n",
              "      border-radius: 50%;\n",
              "      cursor: pointer;\n",
              "      display: none;\n",
              "      fill: #1967D2;\n",
              "      height: 32px;\n",
              "      padding: 0 0 0 0;\n",
              "      width: 32px;\n",
              "    }\n",
              "\n",
              "    .colab-df-convert:hover {\n",
              "      background-color: #E2EBFA;\n",
              "      box-shadow: 0px 1px 2px rgba(60, 64, 67, 0.3), 0px 1px 3px 1px rgba(60, 64, 67, 0.15);\n",
              "      fill: #174EA6;\n",
              "    }\n",
              "\n",
              "    [theme=dark] .colab-df-convert {\n",
              "      background-color: #3B4455;\n",
              "      fill: #D2E3FC;\n",
              "    }\n",
              "\n",
              "    [theme=dark] .colab-df-convert:hover {\n",
              "      background-color: #434B5C;\n",
              "      box-shadow: 0px 1px 3px 1px rgba(0, 0, 0, 0.15);\n",
              "      filter: drop-shadow(0px 1px 2px rgba(0, 0, 0, 0.3));\n",
              "      fill: #FFFFFF;\n",
              "    }\n",
              "  </style>\n",
              "\n",
              "      <script>\n",
              "        const buttonEl =\n",
              "          document.querySelector('#df-7e8e27f9-0389-4ebb-829a-ef3e2ab62eaf button.colab-df-convert');\n",
              "        buttonEl.style.display =\n",
              "          google.colab.kernel.accessAllowed ? 'block' : 'none';\n",
              "\n",
              "        async function convertToInteractive(key) {\n",
              "          const element = document.querySelector('#df-7e8e27f9-0389-4ebb-829a-ef3e2ab62eaf');\n",
              "          const dataTable =\n",
              "            await google.colab.kernel.invokeFunction('convertToInteractive',\n",
              "                                                     [key], {});\n",
              "          if (!dataTable) return;\n",
              "\n",
              "          const docLinkHtml = 'Like what you see? Visit the ' +\n",
              "            '<a target=\"_blank\" href=https://colab.research.google.com/notebooks/data_table.ipynb>data table notebook</a>'\n",
              "            + ' to learn more about interactive tables.';\n",
              "          element.innerHTML = '';\n",
              "          dataTable['output_type'] = 'display_data';\n",
              "          await google.colab.output.renderOutput(dataTable, element);\n",
              "          const docLink = document.createElement('div');\n",
              "          docLink.innerHTML = docLinkHtml;\n",
              "          element.appendChild(docLink);\n",
              "        }\n",
              "      </script>\n",
              "    </div>\n",
              "  </div>\n",
              "  "
            ]
          },
          "metadata": {},
          "execution_count": 11
        }
      ],
      "source": [
        "data = pd.read_csv('Data/aac_intakes_outcomes.csv')\n",
        "data = data[['animal_type', 'intake_year', 'intake_condition', 'intake_number', 'intake_type', 'sex_upon_intake', 'age_upon_intake_(years)', 'time_in_shelter_days', 'sex_upon_outcome', 'age_upon_outcome_(years)', 'outcome_type']]\n",
        "data.head(5)"
      ]
    },
    {
      "cell_type": "markdown",
      "metadata": {
        "id": "IfeqsaTvmFKO"
      },
      "source": [
        "## **Zadatak 1: Transformacija značajki**\n",
        "\n",
        "Uredite skup podataka na način da rukujete s nedostajućim vrijednostima. Provjerite ima li takvih vrijednosti te ih uklonite ili nadomjestite prikladnim vrijednostima.\n",
        "\n"
      ]
    },
    {
      "cell_type": "code",
      "execution_count": null,
      "metadata": {
        "colab": {
          "base_uri": "https://localhost:8080/"
        },
        "id": "2028X5SXJqYV",
        "outputId": "1bf6535c-1289-48bb-ac1d-47427cc675d6"
      },
      "outputs": [
        {
          "output_type": "stream",
          "name": "stdout",
          "text": [
            "12\n",
            "0\n"
          ]
        }
      ],
      "source": [
        "print(data.isnull().sum().sum())\n",
        "#43336 nedostajuće vrijednosti, skoro svi spadaju pod \"outcome_subtype\"\n",
        "\n",
        "#Odabrao sam obrisati nedostajuće podatke iako ispod zakomentirano se može vidjeti na koji način bih popunio nedostajuće vrijednosti\n",
        "data.dropna(inplace=True)\n",
        "\n",
        "\"\"\"\n",
        "#Nadomještanje nedostajućih vrijednosti sa najčešćim vrijednostima\n",
        "data['outcome_type'].fillna(data['outcome_type'].mode()[0], inplace=True)\n",
        "data['sex_upon_intake'].fillna(data['sex_upon_intake'].mode()[0], inplace = True)\n",
        "data['sex_upon_outcome'].fillna(data['sex_upon_outcome'].mode()[0], inplace = True)\n",
        "\"\"\"\n",
        "\n",
        "#Provjera jesu li mi nedostajući podaci obrisani\n",
        "print(data.isnull().sum().sum())"
      ]
    },
    {
      "cell_type": "markdown",
      "metadata": {
        "id": "pyed2Mg6m1LW"
      },
      "source": [
        "Prebacite kategoričke i ordinalne značajke u numeričke pomoću *one-hot encoding* tehnike."
      ]
    },
    {
      "cell_type": "code",
      "execution_count": null,
      "metadata": {
        "id": "Ce4BfQKymcZ2"
      },
      "outputs": [],
      "source": [
        "from sklearn.preprocessing import OneHotEncoder\n",
        "import numpy as np\n",
        "\n",
        "def encode_categorical_features(data, columns):\n",
        "    ohe = OneHotEncoder()\n",
        "    for col in columns:\n",
        "        encoded = ohe.fit_transform(data[[col]]).toarray()\n",
        "        categories = [f\"{col}_{category}\" for category in ohe.categories_[0]]\n",
        "        for i, category in enumerate(categories):\n",
        "            data[category] = encoded[:, i]\n",
        "    data.drop(columns=columns, inplace=True)\n",
        "    return data\n",
        "\n",
        "def encode_outcome_types(data):\n",
        "    ohe = OneHotEncoder()\n",
        "    encoded = ohe.fit_transform(data[['sex_upon_outcome']]).toarray()\n",
        "    outcome_labels = [category + ' outcome' for category in ohe.categories_[0]]\n",
        "    for i, label in enumerate(outcome_labels):\n",
        "        data[label] = encoded[:, i]\n",
        "    data.drop('sex_upon_outcome', axis=1, inplace=True)\n",
        "    return data\n",
        "\n",
        "def replace_outcome_types(data):\n",
        "    outcome_types = np.unique(data['outcome_type'].to_numpy())\n",
        "    data['outcome_type'] = np.where(data['outcome_type'] == outcome_types[0], 1, 0)\n",
        "    return data\n",
        "\n",
        "# Example usage\n",
        "categorical_cols = ['animal_type', 'intake_condition', 'intake_type', 'sex_upon_intake']\n",
        "data = encode_categorical_features(data, categorical_cols)\n",
        "data = encode_outcome_types(data)\n",
        "data = replace_outcome_types(data)"
      ]
    },
    {
      "cell_type": "code",
      "execution_count": null,
      "metadata": {
        "colab": {
          "base_uri": "https://localhost:8080/",
          "height": 540
        },
        "id": "zJ2KDi9POHTX",
        "outputId": "07448fe2-106f-4a02-bdc4-0cb6c2dbf432"
      },
      "outputs": [
        {
          "output_type": "stream",
          "name": "stdout",
          "text": [
            "[0 1]\n"
          ]
        },
        {
          "output_type": "execute_result",
          "data": {
            "text/plain": [
              "       intake_year  intake_number  age_upon_intake_(years)  \\\n",
              "0             2017            1.0                10.000000   \n",
              "1             2014            2.0                 7.000000   \n",
              "2             2014            3.0                 6.000000   \n",
              "3             2014            1.0                10.000000   \n",
              "4             2013            1.0                16.000000   \n",
              "...            ...            ...                      ...   \n",
              "79667         2018            1.0                 0.038356   \n",
              "79668         2018            1.0                 2.000000   \n",
              "79669         2018            1.0                 1.000000   \n",
              "79670         2018            1.0                 0.410959   \n",
              "79671         2018            1.0                10.000000   \n",
              "\n",
              "       time_in_shelter_days  age_upon_outcome_(years)  outcome_type  \\\n",
              "0                  0.588194                 10.000000             0   \n",
              "1                  1.259722                  7.000000             0   \n",
              "2                  1.113889                  6.000000             0   \n",
              "3                  4.970139                 10.000000             0   \n",
              "4                  0.119444                 16.000000             0   \n",
              "...                     ...                       ...           ...   \n",
              "79667              0.077083                  0.038356             0   \n",
              "79668              0.053472                  2.000000             0   \n",
              "79669              0.047917                  1.000000             0   \n",
              "79670              1.762500                  0.821918             0   \n",
              "79671              0.813889                 10.000000             0   \n",
              "\n",
              "       animal_type_Bird  animal_type_Cat  animal_type_Dog  animal_type_Other  \\\n",
              "0                   0.0              0.0              1.0                0.0   \n",
              "1                   0.0              0.0              1.0                0.0   \n",
              "2                   0.0              0.0              1.0                0.0   \n",
              "3                   0.0              0.0              1.0                0.0   \n",
              "4                   0.0              0.0              1.0                0.0   \n",
              "...                 ...              ...              ...                ...   \n",
              "79667               0.0              1.0              0.0                0.0   \n",
              "79668               0.0              0.0              0.0                1.0   \n",
              "79669               0.0              0.0              0.0                1.0   \n",
              "79670               0.0              0.0              1.0                0.0   \n",
              "79671               0.0              0.0              1.0                0.0   \n",
              "\n",
              "       ...  sex_upon_intake_Intact Female  sex_upon_intake_Intact Male  \\\n",
              "0      ...                            0.0                          0.0   \n",
              "1      ...                            0.0                          0.0   \n",
              "2      ...                            0.0                          0.0   \n",
              "3      ...                            0.0                          0.0   \n",
              "4      ...                            0.0                          0.0   \n",
              "...    ...                            ...                          ...   \n",
              "79667  ...                            0.0                          0.0   \n",
              "79668  ...                            0.0                          0.0   \n",
              "79669  ...                            0.0                          0.0   \n",
              "79670  ...                            0.0                          1.0   \n",
              "79671  ...                            0.0                          0.0   \n",
              "\n",
              "       sex_upon_intake_Neutered Male  sex_upon_intake_Spayed Female  \\\n",
              "0                                1.0                            0.0   \n",
              "1                                1.0                            0.0   \n",
              "2                                1.0                            0.0   \n",
              "3                                1.0                            0.0   \n",
              "4                                1.0                            0.0   \n",
              "...                              ...                            ...   \n",
              "79667                            0.0                            0.0   \n",
              "79668                            0.0                            0.0   \n",
              "79669                            0.0                            0.0   \n",
              "79670                            0.0                            0.0   \n",
              "79671                            0.0                            1.0   \n",
              "\n",
              "       sex_upon_intake_Unknown  Intact Female outcome  Intact Male outcome  \\\n",
              "0                          0.0                    0.0                  0.0   \n",
              "1                          0.0                    0.0                  0.0   \n",
              "2                          0.0                    0.0                  0.0   \n",
              "3                          0.0                    0.0                  0.0   \n",
              "4                          0.0                    0.0                  0.0   \n",
              "...                        ...                    ...                  ...   \n",
              "79667                      1.0                    0.0                  0.0   \n",
              "79668                      1.0                    0.0                  0.0   \n",
              "79669                      1.0                    0.0                  0.0   \n",
              "79670                      0.0                    0.0                  1.0   \n",
              "79671                      0.0                    0.0                  0.0   \n",
              "\n",
              "       Neutered Male outcome  Spayed Female outcome  Unknown outcome  \n",
              "0                        1.0                    0.0              0.0  \n",
              "1                        1.0                    0.0              0.0  \n",
              "2                        1.0                    0.0              0.0  \n",
              "3                        1.0                    0.0              0.0  \n",
              "4                        1.0                    0.0              0.0  \n",
              "...                      ...                    ...              ...  \n",
              "79667                    0.0                    0.0              1.0  \n",
              "79668                    0.0                    0.0              1.0  \n",
              "79669                    0.0                    0.0              1.0  \n",
              "79670                    0.0                    0.0              0.0  \n",
              "79671                    0.0                    1.0              0.0  \n",
              "\n",
              "[79661 rows x 33 columns]"
            ],
            "text/html": [
              "\n",
              "  <div id=\"df-561be21f-d317-4e5a-9e13-e5089b7f5f51\">\n",
              "    <div class=\"colab-df-container\">\n",
              "      <div>\n",
              "<style scoped>\n",
              "    .dataframe tbody tr th:only-of-type {\n",
              "        vertical-align: middle;\n",
              "    }\n",
              "\n",
              "    .dataframe tbody tr th {\n",
              "        vertical-align: top;\n",
              "    }\n",
              "\n",
              "    .dataframe thead th {\n",
              "        text-align: right;\n",
              "    }\n",
              "</style>\n",
              "<table border=\"1\" class=\"dataframe\">\n",
              "  <thead>\n",
              "    <tr style=\"text-align: right;\">\n",
              "      <th></th>\n",
              "      <th>intake_year</th>\n",
              "      <th>intake_number</th>\n",
              "      <th>age_upon_intake_(years)</th>\n",
              "      <th>time_in_shelter_days</th>\n",
              "      <th>age_upon_outcome_(years)</th>\n",
              "      <th>outcome_type</th>\n",
              "      <th>animal_type_Bird</th>\n",
              "      <th>animal_type_Cat</th>\n",
              "      <th>animal_type_Dog</th>\n",
              "      <th>animal_type_Other</th>\n",
              "      <th>...</th>\n",
              "      <th>sex_upon_intake_Intact Female</th>\n",
              "      <th>sex_upon_intake_Intact Male</th>\n",
              "      <th>sex_upon_intake_Neutered Male</th>\n",
              "      <th>sex_upon_intake_Spayed Female</th>\n",
              "      <th>sex_upon_intake_Unknown</th>\n",
              "      <th>Intact Female outcome</th>\n",
              "      <th>Intact Male outcome</th>\n",
              "      <th>Neutered Male outcome</th>\n",
              "      <th>Spayed Female outcome</th>\n",
              "      <th>Unknown outcome</th>\n",
              "    </tr>\n",
              "  </thead>\n",
              "  <tbody>\n",
              "    <tr>\n",
              "      <th>0</th>\n",
              "      <td>2017</td>\n",
              "      <td>1.0</td>\n",
              "      <td>10.000000</td>\n",
              "      <td>0.588194</td>\n",
              "      <td>10.000000</td>\n",
              "      <td>0</td>\n",
              "      <td>0.0</td>\n",
              "      <td>0.0</td>\n",
              "      <td>1.0</td>\n",
              "      <td>0.0</td>\n",
              "      <td>...</td>\n",
              "      <td>0.0</td>\n",
              "      <td>0.0</td>\n",
              "      <td>1.0</td>\n",
              "      <td>0.0</td>\n",
              "      <td>0.0</td>\n",
              "      <td>0.0</td>\n",
              "      <td>0.0</td>\n",
              "      <td>1.0</td>\n",
              "      <td>0.0</td>\n",
              "      <td>0.0</td>\n",
              "    </tr>\n",
              "    <tr>\n",
              "      <th>1</th>\n",
              "      <td>2014</td>\n",
              "      <td>2.0</td>\n",
              "      <td>7.000000</td>\n",
              "      <td>1.259722</td>\n",
              "      <td>7.000000</td>\n",
              "      <td>0</td>\n",
              "      <td>0.0</td>\n",
              "      <td>0.0</td>\n",
              "      <td>1.0</td>\n",
              "      <td>0.0</td>\n",
              "      <td>...</td>\n",
              "      <td>0.0</td>\n",
              "      <td>0.0</td>\n",
              "      <td>1.0</td>\n",
              "      <td>0.0</td>\n",
              "      <td>0.0</td>\n",
              "      <td>0.0</td>\n",
              "      <td>0.0</td>\n",
              "      <td>1.0</td>\n",
              "      <td>0.0</td>\n",
              "      <td>0.0</td>\n",
              "    </tr>\n",
              "    <tr>\n",
              "      <th>2</th>\n",
              "      <td>2014</td>\n",
              "      <td>3.0</td>\n",
              "      <td>6.000000</td>\n",
              "      <td>1.113889</td>\n",
              "      <td>6.000000</td>\n",
              "      <td>0</td>\n",
              "      <td>0.0</td>\n",
              "      <td>0.0</td>\n",
              "      <td>1.0</td>\n",
              "      <td>0.0</td>\n",
              "      <td>...</td>\n",
              "      <td>0.0</td>\n",
              "      <td>0.0</td>\n",
              "      <td>1.0</td>\n",
              "      <td>0.0</td>\n",
              "      <td>0.0</td>\n",
              "      <td>0.0</td>\n",
              "      <td>0.0</td>\n",
              "      <td>1.0</td>\n",
              "      <td>0.0</td>\n",
              "      <td>0.0</td>\n",
              "    </tr>\n",
              "    <tr>\n",
              "      <th>3</th>\n",
              "      <td>2014</td>\n",
              "      <td>1.0</td>\n",
              "      <td>10.000000</td>\n",
              "      <td>4.970139</td>\n",
              "      <td>10.000000</td>\n",
              "      <td>0</td>\n",
              "      <td>0.0</td>\n",
              "      <td>0.0</td>\n",
              "      <td>1.0</td>\n",
              "      <td>0.0</td>\n",
              "      <td>...</td>\n",
              "      <td>0.0</td>\n",
              "      <td>0.0</td>\n",
              "      <td>1.0</td>\n",
              "      <td>0.0</td>\n",
              "      <td>0.0</td>\n",
              "      <td>0.0</td>\n",
              "      <td>0.0</td>\n",
              "      <td>1.0</td>\n",
              "      <td>0.0</td>\n",
              "      <td>0.0</td>\n",
              "    </tr>\n",
              "    <tr>\n",
              "      <th>4</th>\n",
              "      <td>2013</td>\n",
              "      <td>1.0</td>\n",
              "      <td>16.000000</td>\n",
              "      <td>0.119444</td>\n",
              "      <td>16.000000</td>\n",
              "      <td>0</td>\n",
              "      <td>0.0</td>\n",
              "      <td>0.0</td>\n",
              "      <td>1.0</td>\n",
              "      <td>0.0</td>\n",
              "      <td>...</td>\n",
              "      <td>0.0</td>\n",
              "      <td>0.0</td>\n",
              "      <td>1.0</td>\n",
              "      <td>0.0</td>\n",
              "      <td>0.0</td>\n",
              "      <td>0.0</td>\n",
              "      <td>0.0</td>\n",
              "      <td>1.0</td>\n",
              "      <td>0.0</td>\n",
              "      <td>0.0</td>\n",
              "    </tr>\n",
              "    <tr>\n",
              "      <th>...</th>\n",
              "      <td>...</td>\n",
              "      <td>...</td>\n",
              "      <td>...</td>\n",
              "      <td>...</td>\n",
              "      <td>...</td>\n",
              "      <td>...</td>\n",
              "      <td>...</td>\n",
              "      <td>...</td>\n",
              "      <td>...</td>\n",
              "      <td>...</td>\n",
              "      <td>...</td>\n",
              "      <td>...</td>\n",
              "      <td>...</td>\n",
              "      <td>...</td>\n",
              "      <td>...</td>\n",
              "      <td>...</td>\n",
              "      <td>...</td>\n",
              "      <td>...</td>\n",
              "      <td>...</td>\n",
              "      <td>...</td>\n",
              "      <td>...</td>\n",
              "    </tr>\n",
              "    <tr>\n",
              "      <th>79667</th>\n",
              "      <td>2018</td>\n",
              "      <td>1.0</td>\n",
              "      <td>0.038356</td>\n",
              "      <td>0.077083</td>\n",
              "      <td>0.038356</td>\n",
              "      <td>0</td>\n",
              "      <td>0.0</td>\n",
              "      <td>1.0</td>\n",
              "      <td>0.0</td>\n",
              "      <td>0.0</td>\n",
              "      <td>...</td>\n",
              "      <td>0.0</td>\n",
              "      <td>0.0</td>\n",
              "      <td>0.0</td>\n",
              "      <td>0.0</td>\n",
              "      <td>1.0</td>\n",
              "      <td>0.0</td>\n",
              "      <td>0.0</td>\n",
              "      <td>0.0</td>\n",
              "      <td>0.0</td>\n",
              "      <td>1.0</td>\n",
              "    </tr>\n",
              "    <tr>\n",
              "      <th>79668</th>\n",
              "      <td>2018</td>\n",
              "      <td>1.0</td>\n",
              "      <td>2.000000</td>\n",
              "      <td>0.053472</td>\n",
              "      <td>2.000000</td>\n",
              "      <td>0</td>\n",
              "      <td>0.0</td>\n",
              "      <td>0.0</td>\n",
              "      <td>0.0</td>\n",
              "      <td>1.0</td>\n",
              "      <td>...</td>\n",
              "      <td>0.0</td>\n",
              "      <td>0.0</td>\n",
              "      <td>0.0</td>\n",
              "      <td>0.0</td>\n",
              "      <td>1.0</td>\n",
              "      <td>0.0</td>\n",
              "      <td>0.0</td>\n",
              "      <td>0.0</td>\n",
              "      <td>0.0</td>\n",
              "      <td>1.0</td>\n",
              "    </tr>\n",
              "    <tr>\n",
              "      <th>79669</th>\n",
              "      <td>2018</td>\n",
              "      <td>1.0</td>\n",
              "      <td>1.000000</td>\n",
              "      <td>0.047917</td>\n",
              "      <td>1.000000</td>\n",
              "      <td>0</td>\n",
              "      <td>0.0</td>\n",
              "      <td>0.0</td>\n",
              "      <td>0.0</td>\n",
              "      <td>1.0</td>\n",
              "      <td>...</td>\n",
              "      <td>0.0</td>\n",
              "      <td>0.0</td>\n",
              "      <td>0.0</td>\n",
              "      <td>0.0</td>\n",
              "      <td>1.0</td>\n",
              "      <td>0.0</td>\n",
              "      <td>0.0</td>\n",
              "      <td>0.0</td>\n",
              "      <td>0.0</td>\n",
              "      <td>1.0</td>\n",
              "    </tr>\n",
              "    <tr>\n",
              "      <th>79670</th>\n",
              "      <td>2018</td>\n",
              "      <td>1.0</td>\n",
              "      <td>0.410959</td>\n",
              "      <td>1.762500</td>\n",
              "      <td>0.821918</td>\n",
              "      <td>0</td>\n",
              "      <td>0.0</td>\n",
              "      <td>0.0</td>\n",
              "      <td>1.0</td>\n",
              "      <td>0.0</td>\n",
              "      <td>...</td>\n",
              "      <td>0.0</td>\n",
              "      <td>1.0</td>\n",
              "      <td>0.0</td>\n",
              "      <td>0.0</td>\n",
              "      <td>0.0</td>\n",
              "      <td>0.0</td>\n",
              "      <td>1.0</td>\n",
              "      <td>0.0</td>\n",
              "      <td>0.0</td>\n",
              "      <td>0.0</td>\n",
              "    </tr>\n",
              "    <tr>\n",
              "      <th>79671</th>\n",
              "      <td>2018</td>\n",
              "      <td>1.0</td>\n",
              "      <td>10.000000</td>\n",
              "      <td>0.813889</td>\n",
              "      <td>10.000000</td>\n",
              "      <td>0</td>\n",
              "      <td>0.0</td>\n",
              "      <td>0.0</td>\n",
              "      <td>1.0</td>\n",
              "      <td>0.0</td>\n",
              "      <td>...</td>\n",
              "      <td>0.0</td>\n",
              "      <td>0.0</td>\n",
              "      <td>0.0</td>\n",
              "      <td>1.0</td>\n",
              "      <td>0.0</td>\n",
              "      <td>0.0</td>\n",
              "      <td>0.0</td>\n",
              "      <td>0.0</td>\n",
              "      <td>1.0</td>\n",
              "      <td>0.0</td>\n",
              "    </tr>\n",
              "  </tbody>\n",
              "</table>\n",
              "<p>79661 rows × 33 columns</p>\n",
              "</div>\n",
              "      <button class=\"colab-df-convert\" onclick=\"convertToInteractive('df-561be21f-d317-4e5a-9e13-e5089b7f5f51')\"\n",
              "              title=\"Convert this dataframe to an interactive table.\"\n",
              "              style=\"display:none;\">\n",
              "        \n",
              "  <svg xmlns=\"http://www.w3.org/2000/svg\" height=\"24px\"viewBox=\"0 0 24 24\"\n",
              "       width=\"24px\">\n",
              "    <path d=\"M0 0h24v24H0V0z\" fill=\"none\"/>\n",
              "    <path d=\"M18.56 5.44l.94 2.06.94-2.06 2.06-.94-2.06-.94-.94-2.06-.94 2.06-2.06.94zm-11 1L8.5 8.5l.94-2.06 2.06-.94-2.06-.94L8.5 2.5l-.94 2.06-2.06.94zm10 10l.94 2.06.94-2.06 2.06-.94-2.06-.94-.94-2.06-.94 2.06-2.06.94z\"/><path d=\"M17.41 7.96l-1.37-1.37c-.4-.4-.92-.59-1.43-.59-.52 0-1.04.2-1.43.59L10.3 9.45l-7.72 7.72c-.78.78-.78 2.05 0 2.83L4 21.41c.39.39.9.59 1.41.59.51 0 1.02-.2 1.41-.59l7.78-7.78 2.81-2.81c.8-.78.8-2.07 0-2.86zM5.41 20L4 18.59l7.72-7.72 1.47 1.35L5.41 20z\"/>\n",
              "  </svg>\n",
              "      </button>\n",
              "      \n",
              "  <style>\n",
              "    .colab-df-container {\n",
              "      display:flex;\n",
              "      flex-wrap:wrap;\n",
              "      gap: 12px;\n",
              "    }\n",
              "\n",
              "    .colab-df-convert {\n",
              "      background-color: #E8F0FE;\n",
              "      border: none;\n",
              "      border-radius: 50%;\n",
              "      cursor: pointer;\n",
              "      display: none;\n",
              "      fill: #1967D2;\n",
              "      height: 32px;\n",
              "      padding: 0 0 0 0;\n",
              "      width: 32px;\n",
              "    }\n",
              "\n",
              "    .colab-df-convert:hover {\n",
              "      background-color: #E2EBFA;\n",
              "      box-shadow: 0px 1px 2px rgba(60, 64, 67, 0.3), 0px 1px 3px 1px rgba(60, 64, 67, 0.15);\n",
              "      fill: #174EA6;\n",
              "    }\n",
              "\n",
              "    [theme=dark] .colab-df-convert {\n",
              "      background-color: #3B4455;\n",
              "      fill: #D2E3FC;\n",
              "    }\n",
              "\n",
              "    [theme=dark] .colab-df-convert:hover {\n",
              "      background-color: #434B5C;\n",
              "      box-shadow: 0px 1px 3px 1px rgba(0, 0, 0, 0.15);\n",
              "      filter: drop-shadow(0px 1px 2px rgba(0, 0, 0, 0.3));\n",
              "      fill: #FFFFFF;\n",
              "    }\n",
              "  </style>\n",
              "\n",
              "      <script>\n",
              "        const buttonEl =\n",
              "          document.querySelector('#df-561be21f-d317-4e5a-9e13-e5089b7f5f51 button.colab-df-convert');\n",
              "        buttonEl.style.display =\n",
              "          google.colab.kernel.accessAllowed ? 'block' : 'none';\n",
              "\n",
              "        async function convertToInteractive(key) {\n",
              "          const element = document.querySelector('#df-561be21f-d317-4e5a-9e13-e5089b7f5f51');\n",
              "          const dataTable =\n",
              "            await google.colab.kernel.invokeFunction('convertToInteractive',\n",
              "                                                     [key], {});\n",
              "          if (!dataTable) return;\n",
              "\n",
              "          const docLinkHtml = 'Like what you see? Visit the ' +\n",
              "            '<a target=\"_blank\" href=https://colab.research.google.com/notebooks/data_table.ipynb>data table notebook</a>'\n",
              "            + ' to learn more about interactive tables.';\n",
              "          element.innerHTML = '';\n",
              "          dataTable['output_type'] = 'display_data';\n",
              "          await google.colab.output.renderOutput(dataTable, element);\n",
              "          const docLink = document.createElement('div');\n",
              "          docLink.innerHTML = docLinkHtml;\n",
              "          element.appendChild(docLink);\n",
              "        }\n",
              "      </script>\n",
              "    </div>\n",
              "  </div>\n",
              "  "
            ]
          },
          "metadata": {},
          "execution_count": 14
        }
      ],
      "source": [
        "# Ispis jedinstvenih vrijednosti značajke outcome_types\n",
        "outcome_types = np.unique(data['outcome_type'].to_numpy())\n",
        "print(outcome_types)\n",
        "\n",
        "# Ispis rezultat prebacivanja kategoričkih i ordinalnih značajki u numeričke koristeći one hot encoding\n",
        "data"
      ]
    },
    {
      "cell_type": "markdown",
      "metadata": {
        "id": "DFsQZ5D2mdzk"
      },
      "source": [
        "Normalizirajte vrijednosti svih značajki u interval $[0,1]$. "
      ]
    },
    {
      "cell_type": "code",
      "execution_count": null,
      "metadata": {
        "colab": {
          "base_uri": "https://localhost:8080/",
          "height": 334
        },
        "id": "oY4_Zoammki2",
        "outputId": "5589e846-9b05-40d6-d535-dde3f44d192e"
      },
      "outputs": [
        {
          "output_type": "execute_result",
          "data": {
            "text/plain": [
              "   intake_year  intake_number  age_upon_intake_(years)  time_in_shelter_days  \\\n",
              "0          0.8       0.000000                     0.40              0.000366   \n",
              "1          0.2       0.083333                     0.28              0.000784   \n",
              "2          0.2       0.166667                     0.24              0.000693   \n",
              "3          0.2       0.000000                     0.40              0.003094   \n",
              "4          0.0       0.000000                     0.64              0.000074   \n",
              "\n",
              "   age_upon_outcome_(years)  outcome_type  animal_type_Bird  animal_type_Cat  \\\n",
              "0                      0.40           0.0               0.0              0.0   \n",
              "1                      0.28           0.0               0.0              0.0   \n",
              "2                      0.24           0.0               0.0              0.0   \n",
              "3                      0.40           0.0               0.0              0.0   \n",
              "4                      0.64           0.0               0.0              0.0   \n",
              "\n",
              "   animal_type_Dog  animal_type_Other  ...  sex_upon_intake_Intact Female  \\\n",
              "0              1.0                0.0  ...                            0.0   \n",
              "1              1.0                0.0  ...                            0.0   \n",
              "2              1.0                0.0  ...                            0.0   \n",
              "3              1.0                0.0  ...                            0.0   \n",
              "4              1.0                0.0  ...                            0.0   \n",
              "\n",
              "   sex_upon_intake_Intact Male  sex_upon_intake_Neutered Male  \\\n",
              "0                          0.0                            1.0   \n",
              "1                          0.0                            1.0   \n",
              "2                          0.0                            1.0   \n",
              "3                          0.0                            1.0   \n",
              "4                          0.0                            1.0   \n",
              "\n",
              "   sex_upon_intake_Spayed Female  sex_upon_intake_Unknown  \\\n",
              "0                            0.0                      0.0   \n",
              "1                            0.0                      0.0   \n",
              "2                            0.0                      0.0   \n",
              "3                            0.0                      0.0   \n",
              "4                            0.0                      0.0   \n",
              "\n",
              "   Intact Female outcome  Intact Male outcome  Neutered Male outcome  \\\n",
              "0                    0.0                  0.0                    1.0   \n",
              "1                    0.0                  0.0                    1.0   \n",
              "2                    0.0                  0.0                    1.0   \n",
              "3                    0.0                  0.0                    1.0   \n",
              "4                    0.0                  0.0                    1.0   \n",
              "\n",
              "   Spayed Female outcome  Unknown outcome  \n",
              "0                    0.0              0.0  \n",
              "1                    0.0              0.0  \n",
              "2                    0.0              0.0  \n",
              "3                    0.0              0.0  \n",
              "4                    0.0              0.0  \n",
              "\n",
              "[5 rows x 33 columns]"
            ],
            "text/html": [
              "\n",
              "  <div id=\"df-53346347-a0af-4484-a0e2-dffaa6f14e24\">\n",
              "    <div class=\"colab-df-container\">\n",
              "      <div>\n",
              "<style scoped>\n",
              "    .dataframe tbody tr th:only-of-type {\n",
              "        vertical-align: middle;\n",
              "    }\n",
              "\n",
              "    .dataframe tbody tr th {\n",
              "        vertical-align: top;\n",
              "    }\n",
              "\n",
              "    .dataframe thead th {\n",
              "        text-align: right;\n",
              "    }\n",
              "</style>\n",
              "<table border=\"1\" class=\"dataframe\">\n",
              "  <thead>\n",
              "    <tr style=\"text-align: right;\">\n",
              "      <th></th>\n",
              "      <th>intake_year</th>\n",
              "      <th>intake_number</th>\n",
              "      <th>age_upon_intake_(years)</th>\n",
              "      <th>time_in_shelter_days</th>\n",
              "      <th>age_upon_outcome_(years)</th>\n",
              "      <th>outcome_type</th>\n",
              "      <th>animal_type_Bird</th>\n",
              "      <th>animal_type_Cat</th>\n",
              "      <th>animal_type_Dog</th>\n",
              "      <th>animal_type_Other</th>\n",
              "      <th>...</th>\n",
              "      <th>sex_upon_intake_Intact Female</th>\n",
              "      <th>sex_upon_intake_Intact Male</th>\n",
              "      <th>sex_upon_intake_Neutered Male</th>\n",
              "      <th>sex_upon_intake_Spayed Female</th>\n",
              "      <th>sex_upon_intake_Unknown</th>\n",
              "      <th>Intact Female outcome</th>\n",
              "      <th>Intact Male outcome</th>\n",
              "      <th>Neutered Male outcome</th>\n",
              "      <th>Spayed Female outcome</th>\n",
              "      <th>Unknown outcome</th>\n",
              "    </tr>\n",
              "  </thead>\n",
              "  <tbody>\n",
              "    <tr>\n",
              "      <th>0</th>\n",
              "      <td>0.8</td>\n",
              "      <td>0.000000</td>\n",
              "      <td>0.40</td>\n",
              "      <td>0.000366</td>\n",
              "      <td>0.40</td>\n",
              "      <td>0.0</td>\n",
              "      <td>0.0</td>\n",
              "      <td>0.0</td>\n",
              "      <td>1.0</td>\n",
              "      <td>0.0</td>\n",
              "      <td>...</td>\n",
              "      <td>0.0</td>\n",
              "      <td>0.0</td>\n",
              "      <td>1.0</td>\n",
              "      <td>0.0</td>\n",
              "      <td>0.0</td>\n",
              "      <td>0.0</td>\n",
              "      <td>0.0</td>\n",
              "      <td>1.0</td>\n",
              "      <td>0.0</td>\n",
              "      <td>0.0</td>\n",
              "    </tr>\n",
              "    <tr>\n",
              "      <th>1</th>\n",
              "      <td>0.2</td>\n",
              "      <td>0.083333</td>\n",
              "      <td>0.28</td>\n",
              "      <td>0.000784</td>\n",
              "      <td>0.28</td>\n",
              "      <td>0.0</td>\n",
              "      <td>0.0</td>\n",
              "      <td>0.0</td>\n",
              "      <td>1.0</td>\n",
              "      <td>0.0</td>\n",
              "      <td>...</td>\n",
              "      <td>0.0</td>\n",
              "      <td>0.0</td>\n",
              "      <td>1.0</td>\n",
              "      <td>0.0</td>\n",
              "      <td>0.0</td>\n",
              "      <td>0.0</td>\n",
              "      <td>0.0</td>\n",
              "      <td>1.0</td>\n",
              "      <td>0.0</td>\n",
              "      <td>0.0</td>\n",
              "    </tr>\n",
              "    <tr>\n",
              "      <th>2</th>\n",
              "      <td>0.2</td>\n",
              "      <td>0.166667</td>\n",
              "      <td>0.24</td>\n",
              "      <td>0.000693</td>\n",
              "      <td>0.24</td>\n",
              "      <td>0.0</td>\n",
              "      <td>0.0</td>\n",
              "      <td>0.0</td>\n",
              "      <td>1.0</td>\n",
              "      <td>0.0</td>\n",
              "      <td>...</td>\n",
              "      <td>0.0</td>\n",
              "      <td>0.0</td>\n",
              "      <td>1.0</td>\n",
              "      <td>0.0</td>\n",
              "      <td>0.0</td>\n",
              "      <td>0.0</td>\n",
              "      <td>0.0</td>\n",
              "      <td>1.0</td>\n",
              "      <td>0.0</td>\n",
              "      <td>0.0</td>\n",
              "    </tr>\n",
              "    <tr>\n",
              "      <th>3</th>\n",
              "      <td>0.2</td>\n",
              "      <td>0.000000</td>\n",
              "      <td>0.40</td>\n",
              "      <td>0.003094</td>\n",
              "      <td>0.40</td>\n",
              "      <td>0.0</td>\n",
              "      <td>0.0</td>\n",
              "      <td>0.0</td>\n",
              "      <td>1.0</td>\n",
              "      <td>0.0</td>\n",
              "      <td>...</td>\n",
              "      <td>0.0</td>\n",
              "      <td>0.0</td>\n",
              "      <td>1.0</td>\n",
              "      <td>0.0</td>\n",
              "      <td>0.0</td>\n",
              "      <td>0.0</td>\n",
              "      <td>0.0</td>\n",
              "      <td>1.0</td>\n",
              "      <td>0.0</td>\n",
              "      <td>0.0</td>\n",
              "    </tr>\n",
              "    <tr>\n",
              "      <th>4</th>\n",
              "      <td>0.0</td>\n",
              "      <td>0.000000</td>\n",
              "      <td>0.64</td>\n",
              "      <td>0.000074</td>\n",
              "      <td>0.64</td>\n",
              "      <td>0.0</td>\n",
              "      <td>0.0</td>\n",
              "      <td>0.0</td>\n",
              "      <td>1.0</td>\n",
              "      <td>0.0</td>\n",
              "      <td>...</td>\n",
              "      <td>0.0</td>\n",
              "      <td>0.0</td>\n",
              "      <td>1.0</td>\n",
              "      <td>0.0</td>\n",
              "      <td>0.0</td>\n",
              "      <td>0.0</td>\n",
              "      <td>0.0</td>\n",
              "      <td>1.0</td>\n",
              "      <td>0.0</td>\n",
              "      <td>0.0</td>\n",
              "    </tr>\n",
              "  </tbody>\n",
              "</table>\n",
              "<p>5 rows × 33 columns</p>\n",
              "</div>\n",
              "      <button class=\"colab-df-convert\" onclick=\"convertToInteractive('df-53346347-a0af-4484-a0e2-dffaa6f14e24')\"\n",
              "              title=\"Convert this dataframe to an interactive table.\"\n",
              "              style=\"display:none;\">\n",
              "        \n",
              "  <svg xmlns=\"http://www.w3.org/2000/svg\" height=\"24px\"viewBox=\"0 0 24 24\"\n",
              "       width=\"24px\">\n",
              "    <path d=\"M0 0h24v24H0V0z\" fill=\"none\"/>\n",
              "    <path d=\"M18.56 5.44l.94 2.06.94-2.06 2.06-.94-2.06-.94-.94-2.06-.94 2.06-2.06.94zm-11 1L8.5 8.5l.94-2.06 2.06-.94-2.06-.94L8.5 2.5l-.94 2.06-2.06.94zm10 10l.94 2.06.94-2.06 2.06-.94-2.06-.94-.94-2.06-.94 2.06-2.06.94z\"/><path d=\"M17.41 7.96l-1.37-1.37c-.4-.4-.92-.59-1.43-.59-.52 0-1.04.2-1.43.59L10.3 9.45l-7.72 7.72c-.78.78-.78 2.05 0 2.83L4 21.41c.39.39.9.59 1.41.59.51 0 1.02-.2 1.41-.59l7.78-7.78 2.81-2.81c.8-.78.8-2.07 0-2.86zM5.41 20L4 18.59l7.72-7.72 1.47 1.35L5.41 20z\"/>\n",
              "  </svg>\n",
              "      </button>\n",
              "      \n",
              "  <style>\n",
              "    .colab-df-container {\n",
              "      display:flex;\n",
              "      flex-wrap:wrap;\n",
              "      gap: 12px;\n",
              "    }\n",
              "\n",
              "    .colab-df-convert {\n",
              "      background-color: #E8F0FE;\n",
              "      border: none;\n",
              "      border-radius: 50%;\n",
              "      cursor: pointer;\n",
              "      display: none;\n",
              "      fill: #1967D2;\n",
              "      height: 32px;\n",
              "      padding: 0 0 0 0;\n",
              "      width: 32px;\n",
              "    }\n",
              "\n",
              "    .colab-df-convert:hover {\n",
              "      background-color: #E2EBFA;\n",
              "      box-shadow: 0px 1px 2px rgba(60, 64, 67, 0.3), 0px 1px 3px 1px rgba(60, 64, 67, 0.15);\n",
              "      fill: #174EA6;\n",
              "    }\n",
              "\n",
              "    [theme=dark] .colab-df-convert {\n",
              "      background-color: #3B4455;\n",
              "      fill: #D2E3FC;\n",
              "    }\n",
              "\n",
              "    [theme=dark] .colab-df-convert:hover {\n",
              "      background-color: #434B5C;\n",
              "      box-shadow: 0px 1px 3px 1px rgba(0, 0, 0, 0.15);\n",
              "      filter: drop-shadow(0px 1px 2px rgba(0, 0, 0, 0.3));\n",
              "      fill: #FFFFFF;\n",
              "    }\n",
              "  </style>\n",
              "\n",
              "      <script>\n",
              "        const buttonEl =\n",
              "          document.querySelector('#df-53346347-a0af-4484-a0e2-dffaa6f14e24 button.colab-df-convert');\n",
              "        buttonEl.style.display =\n",
              "          google.colab.kernel.accessAllowed ? 'block' : 'none';\n",
              "\n",
              "        async function convertToInteractive(key) {\n",
              "          const element = document.querySelector('#df-53346347-a0af-4484-a0e2-dffaa6f14e24');\n",
              "          const dataTable =\n",
              "            await google.colab.kernel.invokeFunction('convertToInteractive',\n",
              "                                                     [key], {});\n",
              "          if (!dataTable) return;\n",
              "\n",
              "          const docLinkHtml = 'Like what you see? Visit the ' +\n",
              "            '<a target=\"_blank\" href=https://colab.research.google.com/notebooks/data_table.ipynb>data table notebook</a>'\n",
              "            + ' to learn more about interactive tables.';\n",
              "          element.innerHTML = '';\n",
              "          dataTable['output_type'] = 'display_data';\n",
              "          await google.colab.output.renderOutput(dataTable, element);\n",
              "          const docLink = document.createElement('div');\n",
              "          docLink.innerHTML = docLinkHtml;\n",
              "          element.appendChild(docLink);\n",
              "        }\n",
              "      </script>\n",
              "    </div>\n",
              "  </div>\n",
              "  "
            ]
          },
          "metadata": {},
          "execution_count": 15
        }
      ],
      "source": [
        "scaler = MinMaxScaler()\n",
        "\n",
        "#Odabir svih stupaca osim stupaca koji nisu numerički u ovom slučaju object type stupce\n",
        "numeric_columns = data.select_dtypes(include=[int, float]).columns\n",
        "\n",
        "# Normalizacija Min_max skaliranja na numeričkim stupcima\n",
        "data[numeric_columns] = scaler.fit_transform(data[numeric_columns])\n",
        "\n",
        "#Provjera uspješnosti\n",
        "data.head(5)"
      ]
    },
    {
      "cell_type": "markdown",
      "metadata": {
        "id": "O-ezT0ydnEWm"
      },
      "source": [
        "## **Zadatak 2: Odabir modela**\n",
        "\n",
        "Za uređeni skup podataka provedite odabir modela. Prvo podijelite skup podataka na podskupove za treniranje i testiranje u omjeru 80:20. Zatim definirajte mrežu hiperparametara za četiri klasifikatora: DT, SVM, $k$-NN i logističku regresiju."
      ]
    },
    {
      "cell_type": "code",
      "execution_count": null,
      "metadata": {
        "id": "5eOh3Iv9Tv1u",
        "colab": {
          "base_uri": "https://localhost:8080/",
          "height": 54
        },
        "outputId": "31ddb5d5-3914-4764-fd2f-782a650b1c40"
      },
      "outputs": [
        {
          "output_type": "execute_result",
          "data": {
            "text/plain": [
              "\"\\nSVC = SVC()\\nSVC_parameters = {'kernel': ('linear', 'rbf'), 'C': [1,5,10,50,100]}\\nclf_SVC = GridSearchCV(SVC, SVC_parameters, scoring='accuracy')\\nclf_SVC.fit(X_train, y_train)\\n\""
            ],
            "application/vnd.google.colaboratory.intrinsic+json": {
              "type": "string"
            }
          },
          "metadata": {},
          "execution_count": 17
        }
      ],
      "source": [
        "X = data.loc[:, data.columns != 'outcome_type'].copy()\n",
        "y = data['outcome_type'].copy()\n",
        "\n",
        "X_train, X_test, y_train, y_test = train_test_split(X, y, test_size=0.20, random_state=2)\n",
        "\n",
        "DT = tree.DecisionTreeClassifier()\n",
        "tree_parameters = {'max_depth': [5,10,15]}\n",
        "clf_tree = GridSearchCV(DT, tree_parameters, scoring='accuracy')\n",
        "clf_tree.fit(X_train, y_train)\n",
        "\n",
        "\n",
        "KNN = KNeighborsClassifier()\n",
        "KNN_parameters = {'n_neighbors': [5,6,7,8]}\n",
        "clf_KNN = GridSearchCV(KNN, KNN_parameters, scoring='accuracy')\n",
        "clf_KNN.fit(X_train, y_train)\n",
        "\n",
        "\n",
        "LogReg = LogisticRegression(max_iter=1000)\n",
        "LogReg_parameters = {'C': [0.5,1,2,5,10,20]}\n",
        "clf_LogReg = GridSearchCV(LogReg, LogReg_parameters, scoring='accuracy')\n",
        "clf_LogReg.fit(X_train, y_train)\n",
        "\"\"\"\n",
        "SVC = SVC()\n",
        "SVC_parameters = {'kernel': ('linear', 'rbf'), 'C': [1,5,10,50,100]}\n",
        "clf_SVC = GridSearchCV(SVC, SVC_parameters, scoring='accuracy')\n",
        "clf_SVC.fit(X_train, y_train)\n",
        "\"\"\""
      ]
    },
    {
      "cell_type": "markdown",
      "metadata": {
        "id": "F0ELSS3sncje"
      },
      "source": [
        "Na podskupu za treniranje isprobajte sve kombinacije hiperparametara te usporedite najbolje kombinacije za svaki klasifikator na podskupu za testiranje. Odaberite prikladnu mjeru za usporedbu performansi. Možete koristiti klasu GridSearchCV te podijeliti podskup za trening postupkom unakrsne provjere $5$ preklopa. "
      ]
    },
    {
      "cell_type": "code",
      "execution_count": null,
      "metadata": {
        "colab": {
          "base_uri": "https://localhost:8080/",
          "height": 91
        },
        "id": "7ob7JSQRoLlf",
        "outputId": "edf32d35-cc95-44c8-8ed8-97d2cf8bebb5"
      },
      "outputs": [
        {
          "output_type": "stream",
          "name": "stdout",
          "text": [
            "Decision Tree:  0.8401430992280173\n",
            "KNN:  0.8224439841837695\n",
            "Logistic Regression:  0.8173601958199962\n"
          ]
        },
        {
          "output_type": "execute_result",
          "data": {
            "text/plain": [
              "'\\ny_pred = clf_SVC.predict(X_test)\\nprint(\"SVC: \", accuracy_score(y_test, y_pred))\\n'"
            ],
            "application/vnd.google.colaboratory.intrinsic+json": {
              "type": "string"
            }
          },
          "metadata": {},
          "execution_count": 18
        }
      ],
      "source": [
        "y_pred = clf_tree.predict(X_test)\n",
        "print(\"Decision Tree: \", accuracy_score(y_test, y_pred))\n",
        "\n",
        "y_pred = clf_KNN.predict(X_test)\n",
        "print(\"KNN: \", accuracy_score(y_test, y_pred))\n",
        "\n",
        "y_pred = clf_LogReg.predict(X_test)\n",
        "print(\"Logistic Regression: \", accuracy_score(y_test, y_pred))\n",
        "\"\"\"\n",
        "y_pred = clf_SVC.predict(X_test)\n",
        "print(\"SVC: \", accuracy_score(y_test, y_pred))\n",
        "\"\"\""
      ]
    },
    {
      "cell_type": "markdown",
      "metadata": {
        "id": "-241G84zod-n"
      },
      "source": [
        "Prokomentirajte dobivene rezultate. Koji klasifikator ima najbolje performanse?"
      ]
    },
    {
      "cell_type": "code",
      "source": [
        "\"\"\"\n",
        "Klasifikator Stablo odlučivanja ima najbolje performanse od tri testirana klasifikatora, s točnošću od 0.8401430992280173. \n",
        "Klasifikator Stablo odlučivanja ima najveći postotak točnih predviđanja na testnom skupu u usporedbi s KNN-om i Logističkom regresijom.\n",
        "\n",
        "--> Točnost samostalno možda nije jedini faktor koji treba uzeti u obzir priliko procjene performansi klasifikatora <--\n",
        "\"\"\""
      ],
      "metadata": {
        "id": "iAa_4WWvV3Um"
      },
      "execution_count": null,
      "outputs": []
    },
    {
      "cell_type": "markdown",
      "metadata": {
        "id": "E_5BQz5IrkuW"
      },
      "source": [
        "## **Zadatak 3: Odabir značajki - filtri**"
      ]
    },
    {
      "cell_type": "markdown",
      "metadata": {
        "id": "m-j7MwETrr5V"
      },
      "source": [
        "Podijelite uređeni skup podataka na podskupove za treniranje i testiranje u omjeru 80:20 (koristite isto stanje nasumičnosti kao i u Zadatku 2)."
      ]
    },
    {
      "cell_type": "code",
      "execution_count": null,
      "metadata": {
        "id": "bf5fvt-_ry5X"
      },
      "outputs": [],
      "source": [
        "X_train, X_test, y_train, y_test = train_test_split(X, y, test_size=0.20, random_state=2)"
      ]
    },
    {
      "cell_type": "markdown",
      "metadata": {
        "id": "pbS_ANhmr0Kl"
      },
      "source": [
        "Pomoću proizvoljnog filtra provedite odabir značajki za promatrani skup podataka. Rangirajte sve značajki na temelju vrijednosti mjere unutar filtra te iscrtajte stupčasti dijagram tih vrijednosti. "
      ]
    },
    {
      "cell_type": "code",
      "execution_count": null,
      "metadata": {
        "id": "uADr9Vc6t8Qn",
        "colab": {
          "base_uri": "https://localhost:8080/",
          "height": 1000
        },
        "outputId": "5ef07e0e-a826-44e4-c5a1-cc0e6937ed05"
      },
      "outputs": [
        {
          "output_type": "stream",
          "name": "stdout",
          "text": [
            "Odabrane značajke: \n",
            "['animal_type_Dog' 'animal_type_Other' 'intake_condition_Normal'\n",
            " 'intake_condition_Sick' 'intake_type_Owner Surrender'\n",
            " 'intake_type_Public Assist' 'intake_type_Wildlife'\n",
            " 'sex_upon_intake_Unknown' 'Intact Female outcome' 'Intact Male outcome'\n",
            " 'Neutered Male outcome' 'Spayed Female outcome' 'Unknown outcome']\n",
            "Odabrane značajke: \n",
            "['age_upon_intake_(years)' 'time_in_shelter_days'\n",
            " 'age_upon_outcome_(years)']\n",
            "Decision Tree:  0.8388250800225946\n"
          ]
        },
        {
          "output_type": "execute_result",
          "data": {
            "text/plain": [
              "<BarContainer object of 5 artists>"
            ]
          },
          "metadata": {},
          "execution_count": 21
        },
        {
          "output_type": "display_data",
          "data": {
            "text/plain": [
              "<Figure size 4000x1200 with 1 Axes>"
            ],
            "image/png": "[encoded data removed]"
          },
          "metadata": {}
        },
        {
          "output_type": "display_data",
          "data": {
            "text/plain": [
              "<Figure size 4000x1200 with 1 Axes>"
            ],
            "image/png": "[encoded data removed]"
          },
          "metadata": {}
        }
      ],
      "source": [
        "from sklearn.feature_selection import SelectKBest, mutual_info_classif, f_classif\n",
        "\n",
        "skb_categorical = SelectKBest(mutual_info_classif, k=13)\n",
        "X_categorical = X.iloc[:, 5:]\n",
        "X_new_categorical = skb_categorical.fit_transform(X_categorical,y)\n",
        "print(\"Odabrane značajke: \")\n",
        "print(skb_categorical.get_feature_names_out())\n",
        "\n",
        "skb_numerical = SelectKBest(f_classif, k=3)\n",
        "X_numerical = X.iloc[:, 0:5]\n",
        "X_new_numerical = skb_numerical.fit_transform(X_numerical,y)\n",
        "print(\"Odabrane značajke: \")\n",
        "print(skb_numerical.get_feature_names_out())\n",
        "\n",
        "X_important = np.concatenate((skb_categorical.get_feature_names_out(), skb_numerical.get_feature_names_out()))\n",
        "X_train_important = X_train[X_important].copy()\n",
        "X_test_important = X_test[X_important].copy()\n",
        "\n",
        "clf_tree.fit(X_train_important, y_train)\n",
        "y_pred = clf_tree.predict(X_test_important)\n",
        "print(\"Decision Tree: \", accuracy_score(y_test, y_pred))\n",
        "\n",
        "plt.figure(figsize=(40,12))\n",
        "plt.bar(X_categorical.columns, skb_categorical.scores_)\n",
        "\n",
        "plt.figure(figsize=(40,12))\n",
        "plt.bar(X_numerical.columns, skb_numerical.scores_)"
      ]
    },
    {
      "cell_type": "markdown",
      "metadata": {
        "id": "t9FOC3QOuArN"
      },
      "source": [
        "Odaberite $K$ najbolje rangiranih značajki te trenirajte klasifikatore na podskupu za treniranje koristeći odabrane značajke. Možete koristiti najbolje klasifikatore iz Zadatka 2. Samostalno odaberite prikladnu vrijednost za $K$. Usporedite performanse ovih klasifikatora na podskupu za testiranje prije i nakon odabira značajki.  "
      ]
    },
    {
      "cell_type": "markdown",
      "metadata": {
        "id": "Y8zRowEHojL-"
      },
      "source": [
        "## **Zadatak 4: Odabir značajki - omotači**\n"
      ]
    },
    {
      "cell_type": "markdown",
      "metadata": {
        "id": "JH4HRrtYpLJV"
      },
      "source": [
        "Podijelite uređeni skup podataka na podskupove za treniranje i testiranje u omjeru 80:20 (koristite isto stanje nasumičnosti kao i u Zadatku 2). Zatim dodatno podijelite podskup za treniranje na podskupove za treniranje i vrednovanje u omjeru 65:35. "
      ]
    },
    {
      "cell_type": "code",
      "execution_count": null,
      "metadata": {
        "id": "09lfmeOjpTNo"
      },
      "outputs": [],
      "source": [
        "X_train, X_test, y_train, y_test = train_test_split(X, y, test_size=0.20, random_state=2)\n",
        "X_train_v, X_validation, y_train_v, y_validation = train_test_split(X_train, y_train, test_size=0.35, random_state=2)"
      ]
    },
    {
      "cell_type": "markdown",
      "metadata": {
        "id": "vdAA5zAapJq_"
      },
      "source": [
        "Pomoću omotača SFS provedite odabir značajki za promatrani skup podataka. Isprobajte nekoliko različitih vrijednosti za konačan broj značajki, vodeći se performansama klasifikatora. Možete koristiti najbolji klasifikator iz Zadatka 2 za vrednovanje podskupova značajki. Napomena: klasifikator trenirajte na podskupu za trening, a podskupove značajki koje stvara SFS vrednujte na podskupu za vrednovanje."
      ]
    },
    {
      "cell_type": "code",
      "execution_count": null,
      "metadata": {
        "id": "KN_BOhDIpUne",
        "colab": {
          "base_uri": "https://localhost:8080/"
        },
        "outputId": "618421cd-0511-4f34-806a-08fa916f8073"
      },
      "outputs": [
        {
          "output_type": "stream",
          "name": "stdout",
          "text": [
            "Before FS:  0.8473436449226631\n",
            "After FS:  0.8440260031383098\n"
          ]
        }
      ],
      "source": [
        "clf_tree.fit(X_train_v, y_train_v)\n",
        "print(\"Before FS: \", accuracy_score(y_validation, clf_tree.predict(X_validation)))\n",
        "\n",
        "sfs = SequentialFeatureSelector(tree.DecisionTreeClassifier(max_depth=clf_tree.best_params_['max_depth']), n_features_to_select=15, direction='forward').fit(X_train,y_train)\n",
        "selected_features = X_train_v.columns[sfs.support_]\n",
        "\n",
        "clf_tree.fit(X_train_v[selected_features], y_train_v)\n",
        "print(\"After FS: \", accuracy_score(y_validation, clf_tree.predict(X_validation[selected_features])))"
      ]
    },
    {
      "cell_type": "code",
      "source": [
        "\"\"\"\n",
        "Before FS: 0.8473436449226631\n",
        "After FS: 0.8440260031383098\n",
        "\n",
        "Točnost klasifikatora se malo smanjila.\n",
        "Ovo može ukazivati na to da je selekcija značajki možda uklonila neke informacije koje su bile korisne za klasifikaciju.\n",
        "\"\"\""
      ],
      "metadata": {
        "id": "kNW0WnMtXcHd"
      },
      "execution_count": null,
      "outputs": []
    },
    {
      "cell_type": "markdown",
      "metadata": {
        "id": "SUJaladHpe9_"
      },
      "source": [
        "Najbolje klasifikatore iz Zadatka 2 trenirajte na objedinjenom podskupu za treniranje i vrednovanje, koristeći odabrane značajke iz ovog zadatka. Usporedite performanse ovih klasifikatora na podskupu za testiranje prije i nakon odabira značajki."
      ]
    },
    {
      "cell_type": "code",
      "execution_count": null,
      "metadata": {
        "id": "um4StnfipymQ",
        "colab": {
          "base_uri": "https://localhost:8080/"
        },
        "outputId": "75681b71-4dcc-41ec-b79d-f9a7ce5d3439"
      },
      "outputs": [
        {
          "output_type": "stream",
          "name": "stdout",
          "text": [
            "Nakon omotača:  0.842277035084416\n"
          ]
        }
      ],
      "source": [
        "clf_tree.fit(X_train[selected_features], y_train)\n",
        "print(\"Nakon omotača: \", accuracy_score(y_test, clf_tree.predict(X_test[selected_features])))"
      ]
    },
    {
      "cell_type": "markdown",
      "metadata": {
        "id": "-A2A7vm-pzs1"
      },
      "source": [
        "## **Zadatak 5: Preuzorkovanje**\n",
        "\n",
        "Podijelite uređeni skup podataka na podskupove za treniranje i testiranje u omjeru 80:20 (koristite isto stanje nasumičnosti kao i u Zadatku 2)."
      ]
    },
    {
      "cell_type": "code",
      "execution_count": null,
      "metadata": {
        "id": "rledbRzQqt99"
      },
      "outputs": [],
      "source": [
        "X_train, X_test, y_train, y_test = train_test_split(X, y, test_size=0.20, random_state=2)"
      ]
    },
    {
      "cell_type": "markdown",
      "metadata": {
        "id": "OoXYaddFqvQF"
      },
      "source": [
        "Pomoću metode nasumičnog preuzorkovanja provedite preuzorkovanje podskupa za treniranje."
      ]
    },
    {
      "cell_type": "code",
      "execution_count": null,
      "metadata": {
        "id": "xMJ852kIrK-2",
        "colab": {
          "base_uri": "https://localhost:8080/"
        },
        "outputId": "ade9ab01-ed9d-4781-db22-da816f825982"
      },
      "outputs": [
        {
          "output_type": "stream",
          "name": "stdout",
          "text": [
            "Decision Tree:  0.8352475993221615\n"
          ]
        }
      ],
      "source": [
        "oversample = RandomOverSampler(sampling_strategy='minority')\n",
        "X_new_train, y_new_train = oversample.fit_resample(X_train, y_train)\n",
        "\n",
        "clf_tree.fit(X_new_train, y_new_train)\n",
        "y_pred = clf_tree.predict(X_test)\n",
        "print(\"Decision Tree: \", accuracy_score(y_test, y_pred))"
      ]
    },
    {
      "cell_type": "code",
      "source": [
        "\"\"\"\n",
        "Decision Tree: 0.8352475993221615\n",
        "\"\"\""
      ],
      "metadata": {
        "id": "vOkFNtyjZaNd"
      },
      "execution_count": null,
      "outputs": []
    },
    {
      "cell_type": "markdown",
      "metadata": {
        "id": "tbmvYRZ1rMBm"
      },
      "source": [
        "Najbolje klasifikatore iz Zadatka 2 trenirajte na preuzorkovanom podskupu za treniranje. Usporedite performanse ovih klasifikatora na podskupu za testiranje prije i nakon preuzorkovanja. "
      ]
    },
    {
      "cell_type": "code",
      "execution_count": null,
      "metadata": {
        "id": "7n2eoTanRNhR",
        "colab": {
          "base_uri": "https://localhost:8080/"
        },
        "outputId": "cbbb04a8-3533-40df-ae81-54ce53193743"
      },
      "outputs": [
        {
          "output_type": "stream",
          "name": "stdout",
          "text": [
            "Prije preuzorkovanja: 0.8097658946839892\n",
            "Nakon preuzorkovanja: 0.8132178497458106\n"
          ]
        }
      ],
      "source": [
        "oversampler = RandomOverSampler()\n",
        "X_new, y_new = oversampler.fit_resample(X_train, y_train)\n",
        "\n",
        "dt_clf_pre = DecisionTreeClassifier(criterion='log_loss', max_depth=70, splitter='best')\n",
        "dt_clf_pre.fit(X_train, y_train)\n",
        "y_pred_pre = dt_clf_pre.predict(X_test)\n",
        "accuracy_pre = accuracy_score(y_test, y_pred_pre)\n",
        "print(\"Prije preuzorkovanja:\", accuracy_pre)\n",
        "\n",
        "dt_clf_post = DecisionTreeClassifier(criterion='log_loss', max_depth=70, splitter='best')\n",
        "dt_clf_post.fit(X_new, y_new)\n",
        "y_pred_post = dt_clf_post.predict(X_test)\n",
        "accuracy_post = accuracy_score(y_test, y_pred_post)\n",
        "print(\"Nakon preuzorkovanja:\", accuracy_post)"
      ]
    },
    {
      "cell_type": "code",
      "source": [
        "\"\"\"\n",
        "Preuzorkovanje je doprinijelo poboljšanju sposobnosti klasifikatora da generalizira na nepoznate primjere, s obzirom na povećanje točnosti na nebalansiranom podskupu za testiranje.\n",
        "\"\"\""
      ],
      "metadata": {
        "id": "uvrocieOZtCn"
      },
      "execution_count": null,
      "outputs": []
    }
  ],
  "metadata": {
    "colab": {
      "provenance": []
    },
    "kernelspec": {
      "display_name": "Python 3",
      "name": "python3"
    },
    "language_info": {
      "name": "python"
    }
  },
  "nbformat": 4,
  "nbformat_minor": 0
}