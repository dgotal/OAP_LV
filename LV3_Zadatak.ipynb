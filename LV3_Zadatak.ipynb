{
  "nbformat": 4,
  "nbformat_minor": 0,
  "metadata": {
    "colab": {
      "provenance": []
    },
    "kernelspec": {
      "name": "python3",
      "display_name": "Python 3"
    },
    "language_info": {
      "name": "python"
    }
  },
  "cells": [
    {
      "cell_type": "markdown",
      "source": [
        "# **Laboratorijska vježba 3**: Zadaci za samostalni rad\n",
        "\n",
        "## **Podaci iz popisa stanovništa u SAD-u iz 2015. godine**\n",
        "\n",
        "U ovoj laboratorijskoj vježbi istražit ćemo skup podataka dobiven iz popisa stanovništva 2015. godine u SAD-u. Skup podataka dostupan je u *Data/acs2015_county_data.csv*. \n"
      ],
      "metadata": {
        "id": "SIOX6OjUo0TQ"
      }
    },
    {
      "cell_type": "code",
      "source": [
        "!head Data/acs2015_county_data.csv"
      ],
      "metadata": {
        "colab": {
          "base_uri": "https://localhost:8080/"
        },
        "id": "fGvIvs0tplVn",
        "outputId": "17ba18ca-fc1a-409f-a00b-4ddca6423f14"
      },
      "execution_count": null,
      "outputs": [
        {
          "output_type": "stream",
          "name": "stdout",
          "text": [
            "CensusId,State,County,TotalPop,Men,Women,Hispanic,White,Black,Native,Asian,Pacific,Citizen,Income,IncomeErr,IncomePerCap,IncomePerCapErr,Poverty,ChildPoverty,Professional,Service,Office,Construction,Production,Drive,Carpool,Transit,Walk,OtherTransp,WorkAtHome,MeanCommute,Employed,PrivateWork,PublicWork,SelfEmployed,FamilyWork,Unemployment\r\n",
            "1001,Alabama,Autauga,55221,26745,28476,2.6,75.8,18.5,0.4,1.0,0.0,40725,51281.0,2391.0,24974,1080,12.9,18.6,33.2,17.0,24.2,8.6,17.1,87.5,8.8,0.1,0.5,1.3,1.8,26.5,23986,73.6,20.9,5.5,0.0,7.6\r\n",
            "1003,Alabama,Baldwin,195121,95314,99807,4.5,83.1,9.5,0.6,0.7,0.0,147695,50254.0,1263.0,27317,711,13.4,19.2,33.1,17.7,27.1,10.8,11.2,84.7,8.8,0.1,1.0,1.4,3.9,26.4,85953,81.5,12.3,5.8,0.4,7.5\r\n",
            "1005,Alabama,Barbour,26932,14497,12435,4.6,46.2,46.7,0.2,0.4,0.0,20714,32964.0,2973.0,16824,798,26.7,45.3,26.8,16.1,23.1,10.8,23.1,83.8,10.9,0.4,1.8,1.5,1.6,24.1,8597,71.8,20.8,7.3,0.1,17.6\r\n",
            "1007,Alabama,Bibb,22604,12073,10531,2.2,74.5,21.4,0.4,0.1,0.0,17495,38678.0,3995.0,18431,1618,16.8,27.9,21.5,17.9,17.8,19.0,23.7,83.2,13.5,0.5,0.6,1.5,0.7,28.8,8294,76.8,16.1,6.7,0.4,8.3\r\n",
            "1009,Alabama,Blount,57710,28512,29198,8.6,87.9,1.5,0.3,0.1,0.0,42345,45813.0,3141.0,20532,708,16.7,27.2,28.5,14.1,23.9,13.5,19.9,84.9,11.2,0.4,0.9,0.4,2.3,34.9,22189,82.0,13.5,4.2,0.4,7.7\r\n",
            "1011,Alabama,Bullock,10678,5660,5018,4.4,22.2,70.7,1.2,0.2,0.0,8057,31938.0,5884.0,17580,2055,24.6,38.4,18.8,15.0,19.7,20.1,26.4,74.9,14.9,0.7,5.0,1.7,2.8,27.5,3865,79.5,15.1,5.4,0.0,18.0\r\n",
            "1013,Alabama,Butler,20354,9502,10852,1.2,53.3,43.8,0.1,0.4,0.0,15581,32229.0,1793.0,18390,714,25.4,39.2,27.5,16.6,21.9,10.3,23.7,84.5,12.4,0.0,0.8,0.6,1.7,24.6,7813,77.4,16.2,6.2,0.2,10.9\r\n",
            "1015,Alabama,Calhoun,116648,56274,60374,3.5,73.0,20.3,0.2,0.9,0.0,88612,41703.0,925.0,21374,489,20.5,31.6,27.3,17.7,24.2,10.5,20.4,85.3,9.4,0.2,1.2,1.2,2.7,24.1,47401,74.1,20.8,5.0,0.1,12.3\r\n",
            "1017,Alabama,Chambers,34079,16258,17821,0.4,57.3,40.3,0.2,0.8,0.0,26462,34177.0,2949.0,21071,1366,21.6,37.2,23.3,14.5,26.3,11.5,24.4,85.1,11.9,0.2,0.3,0.4,2.1,25.1,13689,85.1,12.1,2.8,0.0,8.9\r\n"
          ]
        }
      ]
    },
    {
      "cell_type": "code",
      "source": [
        "import pandas as pd\n",
        "import pandas as pd\n",
        "import numpy as np\n",
        "import matplotlib.pyplot as plt\n",
        "%matplotlib inline\n",
        "import seaborn as sns\n",
        "import math\n",
        "\n",
        "#load the statistical libraries\n",
        "from statsmodels.stats import diagnostic\n",
        "from scipy import stats\n",
        "import scipy.stats as st"
      ],
      "metadata": {
        "id": "3O06UCc7p6GH"
      },
      "execution_count": null,
      "outputs": []
    },
    {
      "cell_type": "code",
      "source": [
        "data_folder = './Data/'\n",
        "df = pd.read_csv(data_folder + 'acs2015_county_data.csv')"
      ],
      "metadata": {
        "id": "Bg-b-5vTp7jO"
      },
      "execution_count": null,
      "outputs": []
    },
    {
      "cell_type": "code",
      "source": [
        "df.columns"
      ],
      "metadata": {
        "colab": {
          "base_uri": "https://localhost:8080/"
        },
        "id": "ZUyIVzNkp_VV",
        "outputId": "64c91d30-4999-4308-9b95-61b64f7ffa6c"
      },
      "execution_count": null,
      "outputs": [
        {
          "output_type": "execute_result",
          "data": {
            "text/plain": [
              "Index(['CensusId', 'State', 'County', 'TotalPop', 'Men', 'Women', 'Hispanic',\n",
              "       'White', 'Black', 'Native', 'Asian', 'Pacific', 'Citizen', 'Income',\n",
              "       'IncomeErr', 'IncomePerCap', 'IncomePerCapErr', 'Poverty',\n",
              "       'ChildPoverty', 'Professional', 'Service', 'Office', 'Construction',\n",
              "       'Production', 'Drive', 'Carpool', 'Transit', 'Walk', 'OtherTransp',\n",
              "       'WorkAtHome', 'MeanCommute', 'Employed', 'PrivateWork', 'PublicWork',\n",
              "       'SelfEmployed', 'FamilyWork', 'Unemployment'],\n",
              "      dtype='object')"
            ]
          },
          "metadata": {},
          "execution_count": 5
        }
      ]
    },
    {
      "cell_type": "markdown",
      "source": [
        "## **Zadatak 1: Izračun deskriptivne statistike i testiranje distribucija**\n",
        "\n",
        "Za numeričke varijable u skupu podataka izračunajte osnovne mjere u okviru deskriptivne statistike. Zatim se fokusirajte na dohodak po stanovniku države (*IncomePerCap*). Koliko u prosjeku zarađuju stanovnici SAD-a? Kolika je medijalna plaća? "
      ],
      "metadata": {
        "id": "OScnozy4qCH_"
      }
    },
    {
      "cell_type": "code",
      "source": [
        "df.describe()\n",
        "df['IncomePerCap'].describe()\n",
        "medijalna_placa = df['IncomePerCap'].median()\n",
        "prosjecna_placa = df['IncomePerCap'].mean()\n",
        "print(f\"Prosječna plaća: {prosjecna_placa:.2f}\\nMedijalna plaća: {medijalna_placa:.2f}\")"
      ],
      "metadata": {
        "id": "igEfXmYsqRKQ",
        "colab": {
          "base_uri": "https://localhost:8080/"
        },
        "outputId": "3a748c59-0a16-46b2-d62b-aefd0582a612"
      },
      "execution_count": null,
      "outputs": [
        {
          "output_type": "stream",
          "name": "stdout",
          "text": [
            "Prosječna plaća: 23981.77\n",
            "Medijalna plaća: 23460.00\n"
          ]
        }
      ]
    },
    {
      "cell_type": "markdown",
      "source": [
        "Pokušajte steći dublji uvid u prihod po stanovniku. Može li se prepoznati distribucija iz koje potječi ovi podaci? Potkrijepite Vaš zaključak grafičkom metodom i rezultatima statističkog testa."
      ],
      "metadata": {
        "id": "bDBpBq0LrCh2"
      }
    },
    {
      "cell_type": "code",
      "source": [
        "plt.hist(df['IncomePerCap'], bins=30, color='blue')\n",
        "plt.title('Histogram and Density plot for IncomePerCap')\n",
        "plt.xlabel('IncomePerCap')\n",
        "plt.show()\n",
        "\n",
        "# provjera normalnosti podataka stupca \"IncomePerCap\"\n",
        "kstest_result = diagnostic.kstest_normal(df[\"IncomePerCap\"], dist='norm')\n",
        "print(kstest_result)\n",
        "\n",
        "# p-vrijednost je mala što znači da odbacujemo hipotezu da su normalno distribuirani"
      ],
      "metadata": {
        "id": "bKMFtGPsrYtn",
        "colab": {
          "base_uri": "https://localhost:8080/",
          "height": 313
        },
        "outputId": "b26cc1db-9efe-439b-9044-70fbd2cfbd4d"
      },
      "execution_count": null,
      "outputs": [
        {
          "output_type": "display_data",
          "data": {
            "text/plain": [
              "<Figure size 432x288 with 1 Axes>"
            ],
            "image/png": "[encoded data removed]"
          },
          "metadata": {
            "needs_background": "light"
          }
        },
        {
          "output_type": "stream",
          "name": "stdout",
          "text": [
            "(0.0637621121184162, 0.0009999999999998899)\n"
          ]
        }
      ]
    },
    {
      "cell_type": "markdown",
      "source": [
        "Izračunajte osnovne mjere u okviru deskriptivne statistike za broj stanovnika države (*TotalPop*) te prokomentirajte dobivene rezultate."
      ],
      "metadata": {
        "id": "1BUpMvk5sECu"
      }
    },
    {
      "cell_type": "code",
      "source": [
        "pd.options.display.float_format = '{:,.2f}'.format\n",
        "df['TotalPop'].describe()"
      ],
      "metadata": {
        "id": "i4wmEVvcsMKt",
        "colab": {
          "base_uri": "https://localhost:8080/"
        },
        "outputId": "c0aec50a-8561-4594-ec9e-797f455dae70"
      },
      "execution_count": null,
      "outputs": [
        {
          "output_type": "execute_result",
          "data": {
            "text/plain": [
              "count        3,220.00\n",
              "mean        99,409.35\n",
              "std        319,305.45\n",
              "min             85.00\n",
              "25%         11,218.00\n",
              "50%         26,035.00\n",
              "75%         66,430.50\n",
              "max     10,038,388.00\n",
              "Name: TotalPop, dtype: float64"
            ]
          },
          "metadata": {},
          "execution_count": 8
        }
      ]
    },
    {
      "cell_type": "markdown",
      "source": [
        "Pokušajte steći dublji uvid u broj stanovnika. Može li se prepoznati distribucija iz koje potječu ovi podaci? Potkrijepite Vaš zaključak grafičkom metodom i rezultatima statističkog testa."
      ],
      "metadata": {
        "id": "8TLicrlzsQs-"
      }
    },
    {
      "cell_type": "code",
      "source": [
        "plt.hist(df['TotalPop'], bins=30)\n",
        "plt.xlabel('Broj stanovnika')\n",
        "plt.ylabel('Broj država')\n",
        "plt.show()\n",
        "\n",
        "kstest_result = diagnostic.kstest_normal(df['TotalPop'], dist='norm')\n",
        "print(kstest_result)\n",
        "#H0 - normalno distribuirano. Vrijednost p je vrlo mala što znači da odbacujemo nultu hipotezu tj. da podaci nisu normalno distribuirani"
      ],
      "metadata": {
        "id": "QmEByV10sZrW",
        "colab": {
          "base_uri": "https://localhost:8080/",
          "height": 297
        },
        "outputId": "231e6e4e-7fc8-45e5-e2e8-bfde9d790264"
      },
      "execution_count": null,
      "outputs": [
        {
          "output_type": "display_data",
          "data": {
            "text/plain": [
              "<Figure size 432x288 with 1 Axes>"
            ],
            "image/png": "[encoded data removed]"
          },
          "metadata": {
            "needs_background": "light"
          }
        },
        {
          "output_type": "stream",
          "name": "stdout",
          "text": [
            "(0.37787608613878587, 0.0009999999999998899)\n"
          ]
        }
      ]
    },
    {
      "cell_type": "markdown",
      "source": [
        "## **Zadatak 2: Ispitivanje odnosa između dvije varijable**\n",
        "\n",
        "Pokušajte odgovoriti na pitanje je li dohodak po stanovniku države u korelaciji s nezaposlenošću. Ispitajte i linearnu i monotonu korelaciju."
      ],
      "metadata": {
        "id": "6wA3OPzdtxzV"
      }
    },
    {
      "cell_type": "code",
      "source": [
        "# Računanje Pearsonovog koeficijenta korelacije i p-vrijednosti za IncomePerCap i Unemployment\n",
        "pearson_corr, pearson_pvalue = stats.pearsonr(df['IncomePerCap'], df['Unemployment'])\n",
        "print(\"Pearsonov koeficijent korelacije: {:.2f}\".format(pearson_corr))\n",
        "print(\"p-vrijednost: {:.2e}\".format(pearson_pvalue))\n",
        "# -0.55 -> negativno umjerena korelacija\n",
        "# 2.04e-251 \n",
        "\n",
        "# Računanje Spearmanovog koeficijenta korelacije i p-vrijednosti za IncomePerCap i Unemployment\n",
        "spearman_corr, spearman_pvalue = stats.spearmanr(df['IncomePerCap'], df['Unemployment'])\n",
        "print(\"Spearmanov koeficijent korelacije: {:.2f}\".format(spearman_corr))\n",
        "print(\"p-vrijednost: {:.2e}\".format(spearman_pvalue))\n",
        "# -0.56 -> negativno umjerena korelacija\n",
        "# 1.86e-266"
      ],
      "metadata": {
        "id": "uRSuDK21uQ9l",
        "colab": {
          "base_uri": "https://localhost:8080/"
        },
        "outputId": "b614cf4a-53e6-44c6-dd24-3b6f05197203"
      },
      "execution_count": null,
      "outputs": [
        {
          "output_type": "stream",
          "name": "stdout",
          "text": [
            "Pearsonov koeficijent korelacije: -0.55\n",
            "p-vrijednost: 2.04e-251\n",
            "Spearmanov koeficijent korelacije: -0.56\n",
            "p-vrijednost: 1.86e-266\n"
          ]
        }
      ]
    },
    {
      "cell_type": "markdown",
      "source": [
        "## **Zadatak 3: Testiranje hipoteza**\n",
        "\n",
        "Zarađuju li stanovnici države New York više od stanovnika države Kalifornija? Pokušajte dati odgovor na ovo pitanje pomoću deskriptivne statistike."
      ],
      "metadata": {
        "id": "r8KFGmUYuSiV"
      }
    },
    {
      "cell_type": "code",
      "source": [
        "ny_data = df[df['State'] == 'New York']\n",
        "ca_data = df[df['State'] == 'California']\n",
        "\n",
        "ny_income_mean = ny_data['IncomePerCap'].mean()\n",
        "ny_income_median = ny_data['IncomePerCap'].median()\n",
        "\n",
        "ca_income_mean = ca_data['IncomePerCap'].mean()\n",
        "ca_income_median = ca_data['IncomePerCap'].median()\n",
        "\n",
        "print(f\"New York\\nMean: {ny_income_mean:.2f}\\nMedian: {ny_income_median}\")\n",
        "print(f\"\\nCalifornia \\nMean: {ca_income_mean:.2f}\\nMedian: {ca_income_median}\")\n",
        "#Stanovnici države NewYork i Californije zarađuju približno jednako"
      ],
      "metadata": {
        "id": "9Zr9QSFLunEn",
        "colab": {
          "base_uri": "https://localhost:8080/"
        },
        "outputId": "ed8545a1-62ab-4551-c975-1264e054f516"
      },
      "execution_count": null,
      "outputs": [
        {
          "output_type": "stream",
          "name": "stdout",
          "text": [
            "New York\n",
            "Mean: 28189.76\n",
            "Median: 25891.0\n",
            "\n",
            "California \n",
            "Mean: 27902.60\n",
            "Median: 27146.5\n"
          ]
        }
      ]
    },
    {
      "cell_type": "markdown",
      "source": [
        "Kako bi potkrijepili dobivene zaključke, provedite testiranje hipoteza. Neka nulta hipoteza pretpostavlja da nema statistički značajne razlike u dohotku stanovnika ovih država. Testirajte hipotezu pomoću dvostranog t-testa (*two-sided t-test*). Prokomentirajte dobivenu $p$-vrijednost te donesite zaključak."
      ],
      "metadata": {
        "id": "OLt7u6QKuoZm"
      }
    },
    {
      "cell_type": "code",
      "source": [
        "#H0 - nema značajne razlike u dohotku stanovnika Ny i Ca\n",
        "t_statistic, p_value = stats.ttest_ind(ny_data['IncomePerCap'], ca_data['IncomePerCap'], equal_var=False)\n",
        "\n",
        "print(\"t-statistic: \", t_statistic)\n",
        "print(\"p-value: \", p_value)\n",
        "\n",
        "# t-statistika - mjeri razliku između prosječnih vrijednosti\n",
        "# P-vrijednost je približno 85% što znači da pihvacamo početnu hipotezu tj. nema statistički značajne razlike u dohotku stanovnika ovih država"
      ],
      "metadata": {
        "id": "XW2oCWvBvGqe",
        "colab": {
          "base_uri": "https://localhost:8080/"
        },
        "outputId": "2850dd39-0e06-434c-bb93-686d4aa3f04a"
      },
      "execution_count": null,
      "outputs": [
        {
          "output_type": "stream",
          "name": "stdout",
          "text": [
            "t-statistic:  0.19665849300151653\n",
            "p-value:  0.8444542920395708\n"
          ]
        }
      ]
    },
    {
      "cell_type": "markdown",
      "source": [
        "## **Zadatak 4: Kvantificiranje nesigurnosti**\n",
        "\n",
        "Ponovno promotrimo pitanje zarađuju li stanovnici države New York više od stanovnika države Kalifornija. Ovaj put pokušajte odgovoriti na pitanje pomoću intervala pouzdanosti s razinom pouzdanosti od 95%. Uz izračun, vizualizirajte intervale pouzdanosti na stupčastim dijagramima. \n",
        "Pomoć: provjerite preklapaju li se intervali za ove države."
      ],
      "metadata": {
        "id": "abB88OPUvJXN"
      }
    },
    {
      "cell_type": "code",
      "source": [
        "a,b = st.t.interval(confidence=0.95, df=len(ny_data['IncomePerCap']),loc=np.mean(ny_data['IncomePerCap']), scale=st.sem(ny_data['IncomePerCap']))"
      ],
      "metadata": {
        "id": "1cvoBHOlv8Rd"
      },
      "execution_count": null,
      "outputs": []
    },
    {
      "cell_type": "code",
      "source": [
        "c,d = st.t.interval(confidence=0.95, df=len(ca_data['IncomePerCap']),loc=np.mean(ca_data['IncomePerCap']), scale=st.sem(ca_data['IncomePerCap']))"
      ],
      "metadata": {
        "id": "s8FKO3hcUzIL"
      },
      "execution_count": null,
      "outputs": []
    },
    {
      "cell_type": "code",
      "source": [
        "colors = ['blue', 'blue', 'black', 'black']\n",
        "data = {'New York L': a, 'New York H': b, 'California L': c, 'California H': d}\n",
        "plt.bar(list(data.keys()), data.values(), color=colors, width=0.5)"
      ],
      "metadata": {
        "colab": {
          "base_uri": "https://localhost:8080/",
          "height": 283
        },
        "id": "jPyvoyRgU7Hw",
        "outputId": "d63b0fbb-96be-4bb9-ab7d-8cbe0047e25d"
      },
      "execution_count": null,
      "outputs": [
        {
          "output_type": "execute_result",
          "data": {
            "text/plain": [
              "<BarContainer object of 4 artists>"
            ]
          },
          "metadata": {},
          "execution_count": 112
        },
        {
          "output_type": "display_data",
          "data": {
            "text/plain": [
              "<Figure size 432x288 with 1 Axes>"
            ],
            "image/png": "[encoded data removed]"
          },
          "metadata": {
            "needs_background": "light"
          }
        }
      ]
    },
    {
      "cell_type": "markdown",
      "source": [
        "## **Zadatak 5: Jačanje gospodarstva poticanjem samozapošljavanja**\n",
        "\n",
        "Pretpostavimo da je najveći prioritet lokalne uprave u 2018. godini povećanje dohotka po glavi stanovnika. U tu svrhu, dužnosnici planiraju usvojiti strategiju poticanja samozapošljavanja kroz niz kampanja, obrazovnih programa i namjenskih sredstava.\n",
        "\n",
        "Budući da je neetično i nemoguće u ovom okruženju provoditi kontrolirani eksperiment koji uključuje građane (primjerice, otpustiti zaposlenike i prisiliti ih na samozapošljavanje), dužnosnici su od Vas zatražili da utvrdite učinak samozapošljavanja na gospodarstva, oslanjajući se na podatke iz danog skupa podataka."
      ],
      "metadata": {
        "id": "YYrfZvxCv-BW"
      }
    },
    {
      "cell_type": "markdown",
      "source": [
        "Koristeći odgovarajuće grafičke i statističke metode, odredite i kvantificirajte vezu između postotka samozaposlenih građana (*SelfEmployed*) i dohotka po glavi stanovnika u svih 3212 država SAD-a. Zarađuju li građani u državama koje imaju veći postotak samozaposlenih više po glavi stanovnika?"
      ],
      "metadata": {
        "id": "H-_2YLcBwiMC"
      }
    },
    {
      "cell_type": "code",
      "source": [
        "corr = df['SelfEmployed'].corr(df['IncomePerCap'])\n",
        "print(\"Pearson's correlation coefficient: \", corr)\n",
        "\n",
        "plt.scatter(df['SelfEmployed'], df['IncomePerCap'])\n",
        "plt.title('Scatter plot for SelfEmployed and IncomePerCap')\n",
        "plt.xlabel('SelfEmployed')\n",
        "plt.ylabel('IncomePerCap')\n",
        "plt.show()"
      ],
      "metadata": {
        "id": "ASwCyjF0wyW-",
        "colab": {
          "base_uri": "https://localhost:8080/",
          "height": 313
        },
        "outputId": "d7edd441-5efe-4ac9-8a23-deb785de5f63"
      },
      "execution_count": null,
      "outputs": [
        {
          "output_type": "stream",
          "name": "stdout",
          "text": [
            "Pearson's correlation coefficient:  0.08727386609551789\n"
          ]
        },
        {
          "output_type": "display_data",
          "data": {
            "text/plain": [
              "<Figure size 432x288 with 1 Axes>"
            ],
            "image/png": "[encoded data removed]"
          },
          "metadata": {
            "needs_background": "light"
          }
        }
      ]
    },
    {
      "cell_type": "markdown",
      "source": [
        "Pilot program ove strategije zahvatit će sve okruge unutar ograničenog skupa od tri države. Skup A uključuje Wisconsin, Tennessee i Minnesotu. Kvantificirajte ovisnost dohotka po glavi stanovnika o stopama samozapošljavanja u skupu A."
      ],
      "metadata": {
        "id": "E-daFr46w5YV"
      }
    },
    {
      "cell_type": "code",
      "source": [
        "subset_A = df[df['State'].isin(['Wisconsin', 'Tennessee', 'Minnesota'])]\n",
        "corr_coef, p_value = st.pearsonr(subset_A['SelfEmployed'], subset_A['IncomePerCap'])\n",
        "plt.scatter(subset_A['SelfEmployed'], subset_A['IncomePerCap'])\n",
        "plt.title('Ovisnost dohotka po glavio stopama samozapošljavanja u skupu A')\n",
        "plt.show()"
      ],
      "metadata": {
        "id": "V2WZtaJMxLWm",
        "colab": {
          "base_uri": "https://localhost:8080/",
          "height": 281
        },
        "outputId": "e691627c-6405-425a-f350-0ae07bae8edd"
      },
      "execution_count": null,
      "outputs": [
        {
          "output_type": "display_data",
          "data": {
            "text/plain": [
              "<Figure size 432x288 with 1 Axes>"
            ],
            "image/png": "[encoded data removed]"
          },
          "metadata": {
            "needs_background": "light"
          }
        }
      ]
    },
    {
      "cell_type": "markdown",
      "source": [
        "U kojoj je državi unutar skupa A opaženi učinak samozapošljavanja na dohodak po glavi stanovnika najjači? Je li ovaj učinak pozitivan ili negativan?"
      ],
      "metadata": {
        "id": "D6DK3LO-xOJu"
      }
    },
    {
      "cell_type": "code",
      "source": [
        "Minessota = df[df['State'] == 'Minnesota']\n",
        "Tennessee = df[df['State'] == 'Tennessee']\n",
        "Wisconsin = df[df['State'] == 'Wisconsin']\n",
        "M_corr_coef, M_p_value = st.pearsonr(Minessota['SelfEmployed'], Minessota['IncomePerCap'])\n",
        "T_corr_coef, T_p_value = st.pearsonr(Tennessee['SelfEmployed'], Tennessee['IncomePerCap'])\n",
        "W_corr_coef, W_p_value = st.pearsonr(Wisconsin['SelfEmployed'], Wisconsin['IncomePerCap'])\n",
        "print(f\"Minnesota\\nKoeficijent korelacija: {M_corr_coef}\\nP-vrijednost: {M_p_value}\")\n",
        "print(f\"\\nTennessee\\nKoeficijent korelacija: {T_corr_coef}\\nP-vrijednost: {T_p_value}\")\n",
        "print(f\"\\nWisconsin\\nKoeficijent korelacija: {W_corr_coef}\\nP-vrijednost: {W_p_value}\")\n",
        "plt.scatter(Minessota['SelfEmployed'], Minessota['IncomePerCap'])\n",
        "plt.scatter(Tennessee['SelfEmployed'], Tennessee['IncomePerCap'])\n",
        "plt.scatter(Wisconsin['SelfEmployed'], Wisconsin['IncomePerCap'])\n",
        "plt.show()\n",
        "\n"
      ],
      "metadata": {
        "id": "cJun3ZYjxVpW",
        "colab": {
          "base_uri": "https://localhost:8080/",
          "height": 466
        },
        "outputId": "1982eaed-4334-4e4f-ec51-88eebcb06982"
      },
      "execution_count": null,
      "outputs": [
        {
          "output_type": "stream",
          "name": "stdout",
          "text": [
            "Minnesota\n",
            "Koeficijent korelacija: -0.2538551921654062\n",
            "P-vrijednost: 0.017665199300911944\n",
            "\n",
            "Tennessee\n",
            "Koeficijent korelacija: -0.23836048684913153\n",
            "P-vrijednost: 0.020011631955528172\n",
            "\n",
            "Wisconsin\n",
            "Koeficijent korelacija: -0.32905300016378525\n",
            "P-vrijednost: 0.004768134887745218\n"
          ]
        },
        {
          "output_type": "display_data",
          "data": {
            "text/plain": [
              "<Figure size 432x288 with 1 Axes>"
            ],
            "image/png": "[encoded data removed]"
          },
          "metadata": {
            "needs_background": "light"
          }
        }
      ]
    },
    {
      "cell_type": "markdown",
      "source": [
        "Skup B uključuje države New Jersey, Kansas i Rhode Island. Ponovite analizu iz prijašnjih koraka, ali sada za skup B. U kojem biste od dva skupa A i B preporučili poticanje samozapošljavanja? Objasnite svoje razmišljanje. Što zamjećujete kad u oba skupa promatrate korelaciju unutar svake pojedine države, a što kada promatrate korelaciju za države u cjelini?"
      ],
      "metadata": {
        "id": "c7O5Ksd5xYqu"
      }
    },
    {
      "cell_type": "code",
      "source": [
        "B = df[(df['State'] == 'New Jersey') | (df['State'] == 'Kansas') | (df['State'] == 'Rhode Island')]\n",
        "stats.pearsonr(B['SelfEmployed'], B['IncomePerCap'])"
      ],
      "metadata": {
        "id": "Q5BesEmWy-_1",
        "colab": {
          "base_uri": "https://localhost:8080/"
        },
        "outputId": "ac10e83d-95a7-4d0f-c229-af2d95bbc89c"
      },
      "execution_count": null,
      "outputs": [
        {
          "output_type": "execute_result",
          "data": {
            "text/plain": [
              "PearsonRResult(statistic=0.08045896383806686, pvalue=0.4033930682657025)"
            ]
          },
          "metadata": {},
          "execution_count": 119
        }
      ]
    },
    {
      "cell_type": "code",
      "source": [
        "NJ = df[df['State'] == 'New Jersey']\n",
        "stats.pearsonr(NJ['SelfEmployed'], NJ['IncomePerCap'])"
      ],
      "metadata": {
        "colab": {
          "base_uri": "https://localhost:8080/"
        },
        "id": "g6r4vuuMhwVf",
        "outputId": "534ab995-8d18-4b2d-8682-6748b2a9df58"
      },
      "execution_count": null,
      "outputs": [
        {
          "output_type": "execute_result",
          "data": {
            "text/plain": [
              "PearsonRResult(statistic=0.48044784713362815, pvalue=0.027488944757806215)"
            ]
          },
          "metadata": {},
          "execution_count": 131
        }
      ]
    },
    {
      "cell_type": "code",
      "source": [
        "Kansas = df[df['State'] == 'Kansas']\n",
        "stats.pearsonr(Kansas['SelfEmployed'], Kansas['IncomePerCap'])"
      ],
      "metadata": {
        "colab": {
          "base_uri": "https://localhost:8080/"
        },
        "id": "jJbO-yvbhw9U",
        "outputId": "f59e711f-b5b1-462d-9ff0-e3a3272e2e53"
      },
      "execution_count": null,
      "outputs": [
        {
          "output_type": "execute_result",
          "data": {
            "text/plain": [
              "PearsonRResult(statistic=0.25810299714436924, pvalue=0.007853351846832413)"
            ]
          },
          "metadata": {},
          "execution_count": 115
        }
      ]
    },
    {
      "cell_type": "code",
      "source": [
        "RhodeIsland = df[df['State'] == 'Rhode Island']\n",
        "stats.pearsonr(RhodeIsland['SelfEmployed'], RhodeIsland['IncomePerCap'])"
      ],
      "metadata": {
        "colab": {
          "base_uri": "https://localhost:8080/"
        },
        "id": "oLoK_S5PhwgO",
        "outputId": "943e9173-dfcb-4128-df30-e6fe0ceb857a"
      },
      "execution_count": null,
      "outputs": [
        {
          "output_type": "execute_result",
          "data": {
            "text/plain": [
              "PearsonRResult(statistic=0.9021788382149803, pvalue=0.0361831020157593)"
            ]
          },
          "metadata": {},
          "execution_count": 121
        }
      ]
    },
    {
      "cell_type": "code",
      "source": [
        "plt.scatter(NJ['SelfEmployed'], NJ['IncomePerCap'])\n",
        "plt.scatter(Kansas['SelfEmployed'], Kansas['IncomePerCap'])\n",
        "plt.scatter(RhodeIsland['SelfEmployed'], RhodeIsland['IncomePerCap'])\n",
        "plt.show()"
      ],
      "metadata": {
        "colab": {
          "base_uri": "https://localhost:8080/",
          "height": 265
        },
        "id": "ylX03xhNiRR-",
        "outputId": "8866f339-dd9b-4950-e524-379aabc45f4b"
      },
      "execution_count": null,
      "outputs": [
        {
          "output_type": "display_data",
          "data": {
            "text/plain": [
              "<Figure size 432x288 with 1 Axes>"
            ],
            "image/png": "[encoded data removed]"
          },
          "metadata": {
            "needs_background": "light"
          }
        }
      ]
    }
  ]
}