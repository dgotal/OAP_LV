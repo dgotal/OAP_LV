{
  "nbformat": 4,
  "nbformat_minor": 0,
  "metadata": {
    "colab": {
      "provenance": [],
      "private_outputs": true,
      "collapsed_sections": [
        "aPvu4KlI2hsz"
      ]
    },
    "kernelspec": {
      "name": "python3",
      "display_name": "Python 3"
    },
    "language_info": {
      "name": "python"
    },
    "gpuClass": "standard"
  },
  "cells": [
    {
      "cell_type": "markdown",
      "source": [
        "# **Laboratorijska vježba 1**: Zadaci za samostalni rad\n",
        "## **Podaci iz Svjetskog izvješća o sreći**\n",
        "\n",
        "Svjetsko izvješće o sreći godišnja je publikacija Mreže rješenja za održivi razvoj Ujedinjenih naroda (engl. *United Nations Sustainable Development Solutions Network*). Sadrži članke i ljestvice nacionalne sreće na temelju ocjena vlastitog života ispitanika, koje izvješće također povezuje s različitim životnim čimbenicima.\n",
        "\n",
        "U ovoj laboratorijskoj vježbi istražit ćemo sreću u različitim zemljama i povezana obilježja. Skupovi podataka koje ćemo koristiti dostupni su u *Data/happiness2020.csv* i *Data/countries_info.csv*.\n",
        "\n",
        "U nastavku je dan sažetak stupaca (značajki) u skupu podataka:\n",
        "\n",
        "**happines2020.csv**\n",
        "\n",
        "*   country - naziv države\n",
        "*   happiness_score - ocjena sreće\n",
        "*   social_support - socijalna podrška (ublažavanje učinaka nejednakosti)\n",
        "*   healthy_life_expectancy - očekivanji zdravi životni vijek\n",
        "*   freedom_of_choices - sloboda donošenja životnih izbora\n",
        "*   generosity - velikodušnost (milosrđe, volonteri)\n",
        "*   perceptrion_of_corruption - percepcija korupcije\n",
        "*   world_region - regija države u svijetu\n",
        "\n",
        "**countries_info.csv**\n",
        "\n",
        "*   country_name - naziv države\n",
        "*   area - površina u kvadratnim miljama\n",
        "*   population - broj stanovnika\n",
        "*   literacy - postotak pismenih stanovnika\n",
        "\n",
        "\n"
      ],
      "metadata": {
        "id": "ZuVFMCQzyEvE"
      }
    },
    {
      "cell_type": "code",
      "source": [
        "!head Data/countries_info.csv"
      ],
      "metadata": {
        "id": "lnXscYNs1DA8"
      },
      "execution_count": null,
      "outputs": []
    },
    {
      "cell_type": "code",
      "source": [
        "import pandas as pd\n",
        "\n",
        "DATA_FOLDER = 'Data/'\n",
        "\n",
        "HAPPINESS_DATASET = DATA_FOLDER+\"happiness2020.csv\"\n",
        "COUNTRIES_DATASET = DATA_FOLDER+\"countries_info.csv\""
      ],
      "metadata": {
        "id": "Lg7HzyJS1FPh"
      },
      "execution_count": null,
      "outputs": []
    },
    {
      "cell_type": "markdown",
      "source": [
        "## **Zadatak 1: Učitavanje podataka**\n",
        "\n",
        "Učitajte 2 skupa podataka u Pandas DataFrame-ove (zvane *happiness* i *countries*) te prikažite prve retke. Koristite ispravnu metodu za učitavanje podataka i provjerite jesu li podaci u očekivanom formatu."
      ],
      "metadata": {
        "id": "aPvu4KlI2hsz"
      }
    },
    {
      "cell_type": "code",
      "source": [
        "happiness = pd.read_csv(\"Data/happiness2020.csv\", sep=\",\")\n",
        "happiness.head(10)"
      ],
      "metadata": {
        "id": "eFy_vajW23Ed"
      },
      "execution_count": null,
      "outputs": []
    },
    {
      "cell_type": "code",
      "source": [
        "countries = pd.read_csv(\"Data/countries_info.csv\", sep=\",\")\n",
        "countries.head(10)"
      ],
      "metadata": {
        "id": "SwYdHFKQFj6H"
      },
      "execution_count": null,
      "outputs": []
    },
    {
      "cell_type": "markdown",
      "source": [
        "## **Zadatak 2: Spajanje podataka**\n",
        "\n",
        "Kreirajte DataFrame pod nazivom *country_features* spajanjem prethodno stvorena 2 DataFrame-a. Redak novog DataFrame-a mora opisivati sve značajke koje imamo o nekoj državi.\n"
      ],
      "metadata": {
        "id": "F59c7RzS25Y4"
      }
    },
    {
      "cell_type": "code",
      "source": [
        "countries.rename(columns={'country_name':'country'}, inplace=True)\n",
        "countries['country'] = countries['country'].apply(str.title)\n",
        "country_features = pd.merge(countries, happiness, on = 'country')\n",
        "country_features\n",
        "\n"
      ],
      "metadata": {
        "id": "BgEu4c3I3PND"
      },
      "execution_count": null,
      "outputs": []
    },
    {
      "cell_type": "markdown",
      "source": [],
      "metadata": {
        "id": "O9C1ecYgF4Se"
      }
    },
    {
      "cell_type": "markdown",
      "source": [
        "## **Zadatak 3: Gdje su ljudi sretniji?**\n",
        "\n",
        "Ispišite prvih 10 država na temelju njihove ocjene sreće (što je veća ocjena, država je sretnija).\n"
      ],
      "metadata": {
        "id": "5GwITyV03RAQ"
      }
    },
    {
      "cell_type": "code",
      "source": [
        "country_features_sorted = country_features.sort_values(by='happiness_score', ascending=False)\n",
        "top_10_happiest_countries = country_features_sorted.head(10)\n",
        "top_10_happiest_countries"
      ],
      "metadata": {
        "id": "cklYDWN_3ecJ"
      },
      "execution_count": null,
      "outputs": []
    },
    {
      "cell_type": "markdown",
      "source": [
        "Zanima nas u kojoj su regiji svijeta ljudi sretniji.\n",
        "\n",
        "Izradite i ispišite DataFrame s:\n",
        "1.   Prosječnom ocjenom sreće\n",
        "2.   Brojem zemalja za svaku svjetsku regiju.\n",
        "\n",
        "Poredajte rezultat da biste prikazali rangiranje sreće."
      ],
      "metadata": {
        "id": "LIbSXMUp3gSS"
      }
    },
    {
      "cell_type": "code",
      "source": [
        "region_happiness = country_features.groupby('world_region').agg({'happiness_score': 'mean', 'country': 'nunique'})\n",
        "region_happiness.columns = ['Average happiness score', 'Number of countries']\n",
        "region_happiness = region_happiness.sort_values('Average happiness score', ascending=False)\n",
        "region_happiness"
      ],
      "metadata": {
        "id": "-NR_ejX13ukg"
      },
      "execution_count": null,
      "outputs": []
    },
    {
      "cell_type": "markdown",
      "source": [
        "Najbolje rangirana regija ima samo nekoliko država! Koje su to i koji je njihov rezultat sreće?"
      ],
      "metadata": {
        "id": "maeBfNgZ3wR4"
      }
    },
    {
      "cell_type": "code",
      "source": [
        "region_data = country_features[country_features[\"world_region\"] == \"North America and ANZ\"]\n",
        "region_data [[\"country\", \"happiness_score\"]]\n"
      ],
      "metadata": {
        "id": "azkW8Hjx33Cx"
      },
      "execution_count": null,
      "outputs": []
    },
    {
      "cell_type": "markdown",
      "source": [
        "## **Zadatak 4: Koliko je svijet pismen?**\n",
        "\n",
        "Ispišite nazive država s razinom pismenosti od 100%.\n",
        "\n",
        "Za svaku zemlju ispište naziv i regiju svijeta u formatu: {ime regije}-{ime zemlje} ({ocjena sreće}).\n"
      ],
      "metadata": {
        "id": "SGA1xleS345X"
      }
    },
    {
      "cell_type": "code",
      "source": [
        "literacy_test = \"100,0\"\n",
        "literacy_data = country_features.loc[country_features[\"literacy\"] == literacy_test, [\"world_region\", \"country\", \"happiness_score\"]]\n",
        "literacy_data[\"region_country\"] = literacy_data[\"world_region\"] + \" - \" + literacy_data[\"country\"]\n",
        "selected_data = literacy_data.loc[:, [\"region_country\", \"happiness_score\"]]\n",
        "selected_data[\"formatted_data\"] = selected_data.apply(lambda x: f\"{x[0]} ({x[1]})\", axis=1)\n",
        "display(selected_data.loc[:, \"formatted_data\"])"
      ],
      "metadata": {
        "id": "4D8CI5464I2w"
      },
      "execution_count": null,
      "outputs": []
    },
    {
      "cell_type": "markdown",
      "source": [
        "Koliki je globalni prosjek razine pismenosti?"
      ],
      "metadata": {
        "id": "7ayq3sQU4J8v"
      }
    },
    {
      "cell_type": "code",
      "source": [
        "country_features[\"global_literacy\"] = country_features[\"literacy\"].astype(str).str.replace(',', '.').astype(float)\n",
        "mean_global_literacy = country_features[\"global_literacy\"].mean()\n",
        "print(\"Mean global literacy rate:\", mean_global_literacy)"
      ],
      "metadata": {
        "id": "VwwxSS1N4OeB"
      },
      "execution_count": null,
      "outputs": []
    },
    {
      "cell_type": "markdown",
      "source": [
        "Izračunajte udio zemalja s razinom pismenosti ispod 50%. Ispišite vrijednost u postotcima, formatiranu s 2 decimale."
      ],
      "metadata": {
        "id": "gCX2gklg4Q0R"
      }
    },
    {
      "cell_type": "code",
      "source": [
        "country_features[\"literacy\"] = country_features[\"literacy\"].astype(str).str.replace(\",\", \".\").astype(float)\n",
        "less_than_50_literacy = len(country_features.query('literacy <= 50.0'))\n",
        "percentage = less_than_50_literacy / len(country_features) * 100\n",
        "formatted_percentage = \"{:.2f}\".format(percentage)\n",
        "print(\"Percentage of countries with literacy rate less than or equal to 50%: \", formatted_percentage, \"%\")"
      ],
      "metadata": {
        "id": "IoVTBxwt4Wao"
      },
      "execution_count": null,
      "outputs": []
    },
    {
      "cell_type": "markdown",
      "source": [
        "Ispišite neobrađeni broj i postotak nepismenog svjetskog stanovništva."
      ],
      "metadata": {
        "id": "MdcC6cY-4Y9Y"
      }
    },
    {
      "cell_type": "code",
      "source": [
        "number_of_illiterate = sum(country_features[country_features[\"literacy\"] < 50.0][\"population\"])\n",
        "total_population = sum(country_features[\"population\"])\n",
        "percentage_of_illiterate = (number_of_illiterate / total_population)*100\n",
        "print(\"Number of people with less then 50% literacy:\", number_of_illiterate)\n",
        "print(\"Percentage of illiterate people:\", percentage_of_illiterate)\n"
      ],
      "metadata": {
        "id": "SXxdzxHU4dX5"
      },
      "execution_count": null,
      "outputs": []
    },
    {
      "cell_type": "markdown",
      "source": [
        "## **Zadatak 5: Gustoća naseljenosti**\n",
        "\n",
        "Dodajte DataFrame-u *country_features* novi stupac zvan *population_density* koji se dobije dijeljenjem stupca *population* sa stupcem *area*."
      ],
      "metadata": {
        "id": "4BNfJJSg4fAX"
      }
    },
    {
      "cell_type": "code",
      "source": [
        "country_features['population_density'] = country_features['population'] / country_features['area']"
      ],
      "metadata": {
        "id": "NN0m_tvd5CB5"
      },
      "execution_count": null,
      "outputs": []
    },
    {
      "cell_type": "markdown",
      "source": [
        "Koji je rezultat sreće za 3 države s najnižom gustoćom naseljenosti?"
      ],
      "metadata": {
        "id": "EvgJ2iV75DHB"
      }
    },
    {
      "cell_type": "code",
      "source": [
        "lowest_density = country_features.sort_values(by='population_density', ascending=True).head(3)\n",
        "display(lowest_density[['country', 'happiness_score']])"
      ],
      "metadata": {
        "id": "SqnSkMR65HTn"
      },
      "execution_count": null,
      "outputs": []
    },
    {
      "cell_type": "markdown",
      "source": [
        "## **Zadatak 6: Zdravi i sretni?**\n",
        "\n",
        "Iscrtajte na raspršeni dijagram (engl. *scatter plot*) ocjenu sreće (x os) i očekivano trajanje zdravog života (y os)."
      ],
      "metadata": {
        "id": "M6XCsKYH5Iif"
      }
    },
    {
      "cell_type": "code",
      "source": [
        "happiness.plot.scatter(x='happiness_score', y='healthy_life_expectancy')"
      ],
      "metadata": {
        "id": "fXO6ef-MOIZU"
      },
      "execution_count": null,
      "outputs": []
    }
  ]
}