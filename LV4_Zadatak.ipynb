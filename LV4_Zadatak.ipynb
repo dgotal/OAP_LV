{
  "nbformat": 4,
  "nbformat_minor": 0,
  "metadata": {
    "colab": {
      "provenance": []
    },
    "kernelspec": {
      "name": "python3",
      "display_name": "Python 3"
    },
    "language_info": {
      "name": "python"
    }
  },
  "cells": [
    {
      "cell_type": "markdown",
      "source": [
        "# **Laboratorijska vježba 4**: Zadaci za samostalni rad\n",
        "\n",
        "## **Podaci o pacijentima s kardiovaskularnim bolestima**\n",
        "\n",
        "U ovoj laboratorijskoj vježbi istražit ćemo skup podataka koji sadrži informacije o pacijentima s kardiovaskularnim bolestima. Skup podataka sadrži sljedeće značajke:\n",
        "\n",
        "* DEATH_EVENT - je li pacijent preminuo tijekom razdoblja praćenja\n",
        "* sex - muško(1) ili žensko (0)\n",
        "* anaemia - smanjenje crvenih krvnih stanica\n",
        "* smoking\n",
        "* diabetes - boluje li pacijent od dijabetesa\n",
        "* high_blood_pressure - boluje li pacijent od hipertenzije\n",
        "* age - dob pacijenta\n",
        "* creatinine_phosphokinase - razina CPK enzima u krvi\n",
        "* ejection_fraction - postotak krvi koji napušta srce u svakoj kontrakciji\n",
        "* platelets - razina trombocita u krvi \n",
        "* serum_creatinine - razina kreatinina u krvi\n",
        "* serum_sodium - razina serumskog natrija u krvi\n",
        "* time - trajanje razdoblja praćenja (broj dana u bolnici)\n"
      ],
      "metadata": {
        "id": "xKPuwQGia0dg"
      }
    },
    {
      "cell_type": "code",
      "source": [
        "import pandas as pd\n",
        "import pandas as pd\n",
        "import numpy as np\n",
        "import matplotlib.pyplot as plt\n",
        "%matplotlib inline\n",
        "import seaborn as sns\n",
        "import math\n",
        "from statsmodels.stats import diagnostic\n",
        "from scipy import stats\n",
        "import statsmodels.api as sm\n",
        "import statsmodels.formula.api as smf"
      ],
      "metadata": {
        "id": "VN0KC-W-cg9a"
      },
      "execution_count": null,
      "outputs": []
    },
    {
      "cell_type": "code",
      "source": [
        "data_folder = './Data/'\n",
        "df = pd.read_csv(data_folder + 'heart_failure_clinical_records_dataset.csv')\n",
        "df.sample(10)"
      ],
      "metadata": {
        "colab": {
          "base_uri": "https://localhost:8080/",
          "height": 427
        },
        "id": "vcoKogtsciPg",
        "outputId": "88bf7e93-80f5-4b51-e908-b57ebad384d3"
      },
      "execution_count": null,
      "outputs": [
        {
          "output_type": "execute_result",
          "data": {
            "text/plain": [
              "      age  anaemia  creatinine_phosphokinase  diabetes  ejection_fraction  \\\n",
              "107  45.0        1                      1876         1                 35   \n",
              "129  53.0        1                       270         1                 35   \n",
              "7    60.0        1                       315         1                 60   \n",
              "126  46.0        0                       168         1                 17   \n",
              "20   65.0        1                        52         0                 25   \n",
              "177  49.0        1                        69         0                 50   \n",
              "275  45.0        0                       582         0                 38   \n",
              "43   72.0        0                       127         1                 50   \n",
              "77   42.0        0                       102         1                 40   \n",
              "62   55.0        0                       109         0                 35   \n",
              "\n",
              "     high_blood_pressure  platelets  serum_creatinine  serum_sodium  sex  \\\n",
              "107                    0   226000.0               0.9           138    1   \n",
              "129                    0   227000.0               3.4           145    1   \n",
              "7                      0   454000.0               1.1           131    1   \n",
              "126                    1   271000.0               2.1           124    0   \n",
              "20                     1   276000.0               1.3           137    0   \n",
              "177                    0   132000.0               1.0           140    0   \n",
              "275                    1   422000.0               0.8           137    0   \n",
              "43                     1   218000.0               1.0           134    1   \n",
              "77                     0   237000.0               1.2           140    1   \n",
              "62                     0   254000.0               1.1           139    1   \n",
              "\n",
              "     smoking  time  DEATH_EVENT  \n",
              "107        0    88            0  \n",
              "129        0   105            0  \n",
              "7          1    10            1  \n",
              "126        0   100            1  \n",
              "20         0    16            0  \n",
              "177        0   147            0  \n",
              "275        0   245            0  \n",
              "43         0    33            0  \n",
              "77         0    74            0  \n",
              "62         1    60            0  "
            ],
            "text/html": [
              "\n",
              "  <div id=\"df-f105fd69-c12a-49f1-bff8-1e52bf04b823\">\n",
              "    <div class=\"colab-df-container\">\n",
              "      <div>\n",
              "<style scoped>\n",
              "    .dataframe tbody tr th:only-of-type {\n",
              "        vertical-align: middle;\n",
              "    }\n",
              "\n",
              "    .dataframe tbody tr th {\n",
              "        vertical-align: top;\n",
              "    }\n",
              "\n",
              "    .dataframe thead th {\n",
              "        text-align: right;\n",
              "    }\n",
              "</style>\n",
              "<table border=\"1\" class=\"dataframe\">\n",
              "  <thead>\n",
              "    <tr style=\"text-align: right;\">\n",
              "      <th></th>\n",
              "      <th>age</th>\n",
              "      <th>anaemia</th>\n",
              "      <th>creatinine_phosphokinase</th>\n",
              "      <th>diabetes</th>\n",
              "      <th>ejection_fraction</th>\n",
              "      <th>high_blood_pressure</th>\n",
              "      <th>platelets</th>\n",
              "      <th>serum_creatinine</th>\n",
              "      <th>serum_sodium</th>\n",
              "      <th>sex</th>\n",
              "      <th>smoking</th>\n",
              "      <th>time</th>\n",
              "      <th>DEATH_EVENT</th>\n",
              "    </tr>\n",
              "  </thead>\n",
              "  <tbody>\n",
              "    <tr>\n",
              "      <th>107</th>\n",
              "      <td>45.0</td>\n",
              "      <td>1</td>\n",
              "      <td>1876</td>\n",
              "      <td>1</td>\n",
              "      <td>35</td>\n",
              "      <td>0</td>\n",
              "      <td>226000.0</td>\n",
              "      <td>0.9</td>\n",
              "      <td>138</td>\n",
              "      <td>1</td>\n",
              "      <td>0</td>\n",
              "      <td>88</td>\n",
              "      <td>0</td>\n",
              "    </tr>\n",
              "    <tr>\n",
              "      <th>129</th>\n",
              "      <td>53.0</td>\n",
              "      <td>1</td>\n",
              "      <td>270</td>\n",
              "      <td>1</td>\n",
              "      <td>35</td>\n",
              "      <td>0</td>\n",
              "      <td>227000.0</td>\n",
              "      <td>3.4</td>\n",
              "      <td>145</td>\n",
              "      <td>1</td>\n",
              "      <td>0</td>\n",
              "      <td>105</td>\n",
              "      <td>0</td>\n",
              "    </tr>\n",
              "    <tr>\n",
              "      <th>7</th>\n",
              "      <td>60.0</td>\n",
              "      <td>1</td>\n",
              "      <td>315</td>\n",
              "      <td>1</td>\n",
              "      <td>60</td>\n",
              "      <td>0</td>\n",
              "      <td>454000.0</td>\n",
              "      <td>1.1</td>\n",
              "      <td>131</td>\n",
              "      <td>1</td>\n",
              "      <td>1</td>\n",
              "      <td>10</td>\n",
              "      <td>1</td>\n",
              "    </tr>\n",
              "    <tr>\n",
              "      <th>126</th>\n",
              "      <td>46.0</td>\n",
              "      <td>0</td>\n",
              "      <td>168</td>\n",
              "      <td>1</td>\n",
              "      <td>17</td>\n",
              "      <td>1</td>\n",
              "      <td>271000.0</td>\n",
              "      <td>2.1</td>\n",
              "      <td>124</td>\n",
              "      <td>0</td>\n",
              "      <td>0</td>\n",
              "      <td>100</td>\n",
              "      <td>1</td>\n",
              "    </tr>\n",
              "    <tr>\n",
              "      <th>20</th>\n",
              "      <td>65.0</td>\n",
              "      <td>1</td>\n",
              "      <td>52</td>\n",
              "      <td>0</td>\n",
              "      <td>25</td>\n",
              "      <td>1</td>\n",
              "      <td>276000.0</td>\n",
              "      <td>1.3</td>\n",
              "      <td>137</td>\n",
              "      <td>0</td>\n",
              "      <td>0</td>\n",
              "      <td>16</td>\n",
              "      <td>0</td>\n",
              "    </tr>\n",
              "    <tr>\n",
              "      <th>177</th>\n",
              "      <td>49.0</td>\n",
              "      <td>1</td>\n",
              "      <td>69</td>\n",
              "      <td>0</td>\n",
              "      <td>50</td>\n",
              "      <td>0</td>\n",
              "      <td>132000.0</td>\n",
              "      <td>1.0</td>\n",
              "      <td>140</td>\n",
              "      <td>0</td>\n",
              "      <td>0</td>\n",
              "      <td>147</td>\n",
              "      <td>0</td>\n",
              "    </tr>\n",
              "    <tr>\n",
              "      <th>275</th>\n",
              "      <td>45.0</td>\n",
              "      <td>0</td>\n",
              "      <td>582</td>\n",
              "      <td>0</td>\n",
              "      <td>38</td>\n",
              "      <td>1</td>\n",
              "      <td>422000.0</td>\n",
              "      <td>0.8</td>\n",
              "      <td>137</td>\n",
              "      <td>0</td>\n",
              "      <td>0</td>\n",
              "      <td>245</td>\n",
              "      <td>0</td>\n",
              "    </tr>\n",
              "    <tr>\n",
              "      <th>43</th>\n",
              "      <td>72.0</td>\n",
              "      <td>0</td>\n",
              "      <td>127</td>\n",
              "      <td>1</td>\n",
              "      <td>50</td>\n",
              "      <td>1</td>\n",
              "      <td>218000.0</td>\n",
              "      <td>1.0</td>\n",
              "      <td>134</td>\n",
              "      <td>1</td>\n",
              "      <td>0</td>\n",
              "      <td>33</td>\n",
              "      <td>0</td>\n",
              "    </tr>\n",
              "    <tr>\n",
              "      <th>77</th>\n",
              "      <td>42.0</td>\n",
              "      <td>0</td>\n",
              "      <td>102</td>\n",
              "      <td>1</td>\n",
              "      <td>40</td>\n",
              "      <td>0</td>\n",
              "      <td>237000.0</td>\n",
              "      <td>1.2</td>\n",
              "      <td>140</td>\n",
              "      <td>1</td>\n",
              "      <td>0</td>\n",
              "      <td>74</td>\n",
              "      <td>0</td>\n",
              "    </tr>\n",
              "    <tr>\n",
              "      <th>62</th>\n",
              "      <td>55.0</td>\n",
              "      <td>0</td>\n",
              "      <td>109</td>\n",
              "      <td>0</td>\n",
              "      <td>35</td>\n",
              "      <td>0</td>\n",
              "      <td>254000.0</td>\n",
              "      <td>1.1</td>\n",
              "      <td>139</td>\n",
              "      <td>1</td>\n",
              "      <td>1</td>\n",
              "      <td>60</td>\n",
              "      <td>0</td>\n",
              "    </tr>\n",
              "  </tbody>\n",
              "</table>\n",
              "</div>\n",
              "      <button class=\"colab-df-convert\" onclick=\"convertToInteractive('df-f105fd69-c12a-49f1-bff8-1e52bf04b823')\"\n",
              "              title=\"Convert this dataframe to an interactive table.\"\n",
              "              style=\"display:none;\">\n",
              "        \n",
              "  <svg xmlns=\"http://www.w3.org/2000/svg\" height=\"24px\"viewBox=\"0 0 24 24\"\n",
              "       width=\"24px\">\n",
              "    <path d=\"M0 0h24v24H0V0z\" fill=\"none\"/>\n",
              "    <path d=\"M18.56 5.44l.94 2.06.94-2.06 2.06-.94-2.06-.94-.94-2.06-.94 2.06-2.06.94zm-11 1L8.5 8.5l.94-2.06 2.06-.94-2.06-.94L8.5 2.5l-.94 2.06-2.06.94zm10 10l.94 2.06.94-2.06 2.06-.94-2.06-.94-.94-2.06-.94 2.06-2.06.94z\"/><path d=\"M17.41 7.96l-1.37-1.37c-.4-.4-.92-.59-1.43-.59-.52 0-1.04.2-1.43.59L10.3 9.45l-7.72 7.72c-.78.78-.78 2.05 0 2.83L4 21.41c.39.39.9.59 1.41.59.51 0 1.02-.2 1.41-.59l7.78-7.78 2.81-2.81c.8-.78.8-2.07 0-2.86zM5.41 20L4 18.59l7.72-7.72 1.47 1.35L5.41 20z\"/>\n",
              "  </svg>\n",
              "      </button>\n",
              "      \n",
              "  <style>\n",
              "    .colab-df-container {\n",
              "      display:flex;\n",
              "      flex-wrap:wrap;\n",
              "      gap: 12px;\n",
              "    }\n",
              "\n",
              "    .colab-df-convert {\n",
              "      background-color: #E8F0FE;\n",
              "      border: none;\n",
              "      border-radius: 50%;\n",
              "      cursor: pointer;\n",
              "      display: none;\n",
              "      fill: #1967D2;\n",
              "      height: 32px;\n",
              "      padding: 0 0 0 0;\n",
              "      width: 32px;\n",
              "    }\n",
              "\n",
              "    .colab-df-convert:hover {\n",
              "      background-color: #E2EBFA;\n",
              "      box-shadow: 0px 1px 2px rgba(60, 64, 67, 0.3), 0px 1px 3px 1px rgba(60, 64, 67, 0.15);\n",
              "      fill: #174EA6;\n",
              "    }\n",
              "\n",
              "    [theme=dark] .colab-df-convert {\n",
              "      background-color: #3B4455;\n",
              "      fill: #D2E3FC;\n",
              "    }\n",
              "\n",
              "    [theme=dark] .colab-df-convert:hover {\n",
              "      background-color: #434B5C;\n",
              "      box-shadow: 0px 1px 3px 1px rgba(0, 0, 0, 0.15);\n",
              "      filter: drop-shadow(0px 1px 2px rgba(0, 0, 0, 0.3));\n",
              "      fill: #FFFFFF;\n",
              "    }\n",
              "  </style>\n",
              "\n",
              "      <script>\n",
              "        const buttonEl =\n",
              "          document.querySelector('#df-f105fd69-c12a-49f1-bff8-1e52bf04b823 button.colab-df-convert');\n",
              "        buttonEl.style.display =\n",
              "          google.colab.kernel.accessAllowed ? 'block' : 'none';\n",
              "\n",
              "        async function convertToInteractive(key) {\n",
              "          const element = document.querySelector('#df-f105fd69-c12a-49f1-bff8-1e52bf04b823');\n",
              "          const dataTable =\n",
              "            await google.colab.kernel.invokeFunction('convertToInteractive',\n",
              "                                                     [key], {});\n",
              "          if (!dataTable) return;\n",
              "\n",
              "          const docLinkHtml = 'Like what you see? Visit the ' +\n",
              "            '<a target=\"_blank\" href=https://colab.research.google.com/notebooks/data_table.ipynb>data table notebook</a>'\n",
              "            + ' to learn more about interactive tables.';\n",
              "          element.innerHTML = '';\n",
              "          dataTable['output_type'] = 'display_data';\n",
              "          await google.colab.output.renderOutput(dataTable, element);\n",
              "          const docLink = document.createElement('div');\n",
              "          docLink.innerHTML = docLinkHtml;\n",
              "          element.appendChild(docLink);\n",
              "        }\n",
              "      </script>\n",
              "    </div>\n",
              "  </div>\n",
              "  "
            ]
          },
          "metadata": {},
          "execution_count": 135
        }
      ]
    },
    {
      "cell_type": "code",
      "source": [
        "df.corr()"
      ],
      "metadata": {
        "colab": {
          "base_uri": "https://localhost:8080/",
          "height": 521
        },
        "id": "oQiaitsEf8Ov",
        "outputId": "39fd2f46-0dfc-42e1-a3e1-026fb9b06104"
      },
      "execution_count": null,
      "outputs": [
        {
          "output_type": "execute_result",
          "data": {
            "text/plain": [
              "                               age   anaemia  creatinine_phosphokinase  \\\n",
              "age                       1.000000  0.088006                 -0.081584   \n",
              "anaemia                   0.088006  1.000000                 -0.190741   \n",
              "creatinine_phosphokinase -0.081584 -0.190741                  1.000000   \n",
              "diabetes                 -0.101012 -0.012729                 -0.009639   \n",
              "ejection_fraction         0.060098  0.031557                 -0.044080   \n",
              "high_blood_pressure       0.093289  0.038182                 -0.070590   \n",
              "platelets                -0.052354 -0.043786                  0.024463   \n",
              "serum_creatinine          0.159187  0.052174                 -0.016408   \n",
              "serum_sodium             -0.045966  0.041882                  0.059550   \n",
              "sex                       0.065430 -0.094769                  0.079791   \n",
              "smoking                   0.018668 -0.107290                  0.002421   \n",
              "time                     -0.224068 -0.141414                 -0.009346   \n",
              "DEATH_EVENT               0.253729  0.066270                  0.062728   \n",
              "\n",
              "                          diabetes  ejection_fraction  high_blood_pressure  \\\n",
              "age                      -0.101012           0.060098             0.093289   \n",
              "anaemia                  -0.012729           0.031557             0.038182   \n",
              "creatinine_phosphokinase -0.009639          -0.044080            -0.070590   \n",
              "diabetes                  1.000000          -0.004850            -0.012732   \n",
              "ejection_fraction        -0.004850           1.000000             0.024445   \n",
              "high_blood_pressure      -0.012732           0.024445             1.000000   \n",
              "platelets                 0.092193           0.072177             0.049963   \n",
              "serum_creatinine         -0.046975          -0.011302            -0.004935   \n",
              "serum_sodium             -0.089551           0.175902             0.037109   \n",
              "sex                      -0.157730          -0.148386            -0.104615   \n",
              "smoking                  -0.147173          -0.067315            -0.055711   \n",
              "time                      0.033726           0.041729            -0.196439   \n",
              "DEATH_EVENT              -0.001943          -0.268603             0.079351   \n",
              "\n",
              "                          platelets  serum_creatinine  serum_sodium       sex  \\\n",
              "age                       -0.052354          0.159187     -0.045966  0.065430   \n",
              "anaemia                   -0.043786          0.052174      0.041882 -0.094769   \n",
              "creatinine_phosphokinase   0.024463         -0.016408      0.059550  0.079791   \n",
              "diabetes                   0.092193         -0.046975     -0.089551 -0.157730   \n",
              "ejection_fraction          0.072177         -0.011302      0.175902 -0.148386   \n",
              "high_blood_pressure        0.049963         -0.004935      0.037109 -0.104615   \n",
              "platelets                  1.000000         -0.041198      0.062125 -0.125120   \n",
              "serum_creatinine          -0.041198          1.000000     -0.189095  0.006970   \n",
              "serum_sodium               0.062125         -0.189095      1.000000 -0.027566   \n",
              "sex                       -0.125120          0.006970     -0.027566  1.000000   \n",
              "smoking                    0.028234         -0.027414      0.004813  0.445892   \n",
              "time                       0.010514         -0.149315      0.087640 -0.015608   \n",
              "DEATH_EVENT               -0.049139          0.294278     -0.195204 -0.004316   \n",
              "\n",
              "                           smoking      time  DEATH_EVENT  \n",
              "age                       0.018668 -0.224068     0.253729  \n",
              "anaemia                  -0.107290 -0.141414     0.066270  \n",
              "creatinine_phosphokinase  0.002421 -0.009346     0.062728  \n",
              "diabetes                 -0.147173  0.033726    -0.001943  \n",
              "ejection_fraction        -0.067315  0.041729    -0.268603  \n",
              "high_blood_pressure      -0.055711 -0.196439     0.079351  \n",
              "platelets                 0.028234  0.010514    -0.049139  \n",
              "serum_creatinine         -0.027414 -0.149315     0.294278  \n",
              "serum_sodium              0.004813  0.087640    -0.195204  \n",
              "sex                       0.445892 -0.015608    -0.004316  \n",
              "smoking                   1.000000 -0.022839    -0.012623  \n",
              "time                     -0.022839  1.000000    -0.526964  \n",
              "DEATH_EVENT              -0.012623 -0.526964     1.000000  "
            ],
            "text/html": [
              "\n",
              "  <div id=\"df-0520e0e0-8558-419b-9c0f-82f52dfe28d4\">\n",
              "    <div class=\"colab-df-container\">\n",
              "      <div>\n",
              "<style scoped>\n",
              "    .dataframe tbody tr th:only-of-type {\n",
              "        vertical-align: middle;\n",
              "    }\n",
              "\n",
              "    .dataframe tbody tr th {\n",
              "        vertical-align: top;\n",
              "    }\n",
              "\n",
              "    .dataframe thead th {\n",
              "        text-align: right;\n",
              "    }\n",
              "</style>\n",
              "<table border=\"1\" class=\"dataframe\">\n",
              "  <thead>\n",
              "    <tr style=\"text-align: right;\">\n",
              "      <th></th>\n",
              "      <th>age</th>\n",
              "      <th>anaemia</th>\n",
              "      <th>creatinine_phosphokinase</th>\n",
              "      <th>diabetes</th>\n",
              "      <th>ejection_fraction</th>\n",
              "      <th>high_blood_pressure</th>\n",
              "      <th>platelets</th>\n",
              "      <th>serum_creatinine</th>\n",
              "      <th>serum_sodium</th>\n",
              "      <th>sex</th>\n",
              "      <th>smoking</th>\n",
              "      <th>time</th>\n",
              "      <th>DEATH_EVENT</th>\n",
              "    </tr>\n",
              "  </thead>\n",
              "  <tbody>\n",
              "    <tr>\n",
              "      <th>age</th>\n",
              "      <td>1.000000</td>\n",
              "      <td>0.088006</td>\n",
              "      <td>-0.081584</td>\n",
              "      <td>-0.101012</td>\n",
              "      <td>0.060098</td>\n",
              "      <td>0.093289</td>\n",
              "      <td>-0.052354</td>\n",
              "      <td>0.159187</td>\n",
              "      <td>-0.045966</td>\n",
              "      <td>0.065430</td>\n",
              "      <td>0.018668</td>\n",
              "      <td>-0.224068</td>\n",
              "      <td>0.253729</td>\n",
              "    </tr>\n",
              "    <tr>\n",
              "      <th>anaemia</th>\n",
              "      <td>0.088006</td>\n",
              "      <td>1.000000</td>\n",
              "      <td>-0.190741</td>\n",
              "      <td>-0.012729</td>\n",
              "      <td>0.031557</td>\n",
              "      <td>0.038182</td>\n",
              "      <td>-0.043786</td>\n",
              "      <td>0.052174</td>\n",
              "      <td>0.041882</td>\n",
              "      <td>-0.094769</td>\n",
              "      <td>-0.107290</td>\n",
              "      <td>-0.141414</td>\n",
              "      <td>0.066270</td>\n",
              "    </tr>\n",
              "    <tr>\n",
              "      <th>creatinine_phosphokinase</th>\n",
              "      <td>-0.081584</td>\n",
              "      <td>-0.190741</td>\n",
              "      <td>1.000000</td>\n",
              "      <td>-0.009639</td>\n",
              "      <td>-0.044080</td>\n",
              "      <td>-0.070590</td>\n",
              "      <td>0.024463</td>\n",
              "      <td>-0.016408</td>\n",
              "      <td>0.059550</td>\n",
              "      <td>0.079791</td>\n",
              "      <td>0.002421</td>\n",
              "      <td>-0.009346</td>\n",
              "      <td>0.062728</td>\n",
              "    </tr>\n",
              "    <tr>\n",
              "      <th>diabetes</th>\n",
              "      <td>-0.101012</td>\n",
              "      <td>-0.012729</td>\n",
              "      <td>-0.009639</td>\n",
              "      <td>1.000000</td>\n",
              "      <td>-0.004850</td>\n",
              "      <td>-0.012732</td>\n",
              "      <td>0.092193</td>\n",
              "      <td>-0.046975</td>\n",
              "      <td>-0.089551</td>\n",
              "      <td>-0.157730</td>\n",
              "      <td>-0.147173</td>\n",
              "      <td>0.033726</td>\n",
              "      <td>-0.001943</td>\n",
              "    </tr>\n",
              "    <tr>\n",
              "      <th>ejection_fraction</th>\n",
              "      <td>0.060098</td>\n",
              "      <td>0.031557</td>\n",
              "      <td>-0.044080</td>\n",
              "      <td>-0.004850</td>\n",
              "      <td>1.000000</td>\n",
              "      <td>0.024445</td>\n",
              "      <td>0.072177</td>\n",
              "      <td>-0.011302</td>\n",
              "      <td>0.175902</td>\n",
              "      <td>-0.148386</td>\n",
              "      <td>-0.067315</td>\n",
              "      <td>0.041729</td>\n",
              "      <td>-0.268603</td>\n",
              "    </tr>\n",
              "    <tr>\n",
              "      <th>high_blood_pressure</th>\n",
              "      <td>0.093289</td>\n",
              "      <td>0.038182</td>\n",
              "      <td>-0.070590</td>\n",
              "      <td>-0.012732</td>\n",
              "      <td>0.024445</td>\n",
              "      <td>1.000000</td>\n",
              "      <td>0.049963</td>\n",
              "      <td>-0.004935</td>\n",
              "      <td>0.037109</td>\n",
              "      <td>-0.104615</td>\n",
              "      <td>-0.055711</td>\n",
              "      <td>-0.196439</td>\n",
              "      <td>0.079351</td>\n",
              "    </tr>\n",
              "    <tr>\n",
              "      <th>platelets</th>\n",
              "      <td>-0.052354</td>\n",
              "      <td>-0.043786</td>\n",
              "      <td>0.024463</td>\n",
              "      <td>0.092193</td>\n",
              "      <td>0.072177</td>\n",
              "      <td>0.049963</td>\n",
              "      <td>1.000000</td>\n",
              "      <td>-0.041198</td>\n",
              "      <td>0.062125</td>\n",
              "      <td>-0.125120</td>\n",
              "      <td>0.028234</td>\n",
              "      <td>0.010514</td>\n",
              "      <td>-0.049139</td>\n",
              "    </tr>\n",
              "    <tr>\n",
              "      <th>serum_creatinine</th>\n",
              "      <td>0.159187</td>\n",
              "      <td>0.052174</td>\n",
              "      <td>-0.016408</td>\n",
              "      <td>-0.046975</td>\n",
              "      <td>-0.011302</td>\n",
              "      <td>-0.004935</td>\n",
              "      <td>-0.041198</td>\n",
              "      <td>1.000000</td>\n",
              "      <td>-0.189095</td>\n",
              "      <td>0.006970</td>\n",
              "      <td>-0.027414</td>\n",
              "      <td>-0.149315</td>\n",
              "      <td>0.294278</td>\n",
              "    </tr>\n",
              "    <tr>\n",
              "      <th>serum_sodium</th>\n",
              "      <td>-0.045966</td>\n",
              "      <td>0.041882</td>\n",
              "      <td>0.059550</td>\n",
              "      <td>-0.089551</td>\n",
              "      <td>0.175902</td>\n",
              "      <td>0.037109</td>\n",
              "      <td>0.062125</td>\n",
              "      <td>-0.189095</td>\n",
              "      <td>1.000000</td>\n",
              "      <td>-0.027566</td>\n",
              "      <td>0.004813</td>\n",
              "      <td>0.087640</td>\n",
              "      <td>-0.195204</td>\n",
              "    </tr>\n",
              "    <tr>\n",
              "      <th>sex</th>\n",
              "      <td>0.065430</td>\n",
              "      <td>-0.094769</td>\n",
              "      <td>0.079791</td>\n",
              "      <td>-0.157730</td>\n",
              "      <td>-0.148386</td>\n",
              "      <td>-0.104615</td>\n",
              "      <td>-0.125120</td>\n",
              "      <td>0.006970</td>\n",
              "      <td>-0.027566</td>\n",
              "      <td>1.000000</td>\n",
              "      <td>0.445892</td>\n",
              "      <td>-0.015608</td>\n",
              "      <td>-0.004316</td>\n",
              "    </tr>\n",
              "    <tr>\n",
              "      <th>smoking</th>\n",
              "      <td>0.018668</td>\n",
              "      <td>-0.107290</td>\n",
              "      <td>0.002421</td>\n",
              "      <td>-0.147173</td>\n",
              "      <td>-0.067315</td>\n",
              "      <td>-0.055711</td>\n",
              "      <td>0.028234</td>\n",
              "      <td>-0.027414</td>\n",
              "      <td>0.004813</td>\n",
              "      <td>0.445892</td>\n",
              "      <td>1.000000</td>\n",
              "      <td>-0.022839</td>\n",
              "      <td>-0.012623</td>\n",
              "    </tr>\n",
              "    <tr>\n",
              "      <th>time</th>\n",
              "      <td>-0.224068</td>\n",
              "      <td>-0.141414</td>\n",
              "      <td>-0.009346</td>\n",
              "      <td>0.033726</td>\n",
              "      <td>0.041729</td>\n",
              "      <td>-0.196439</td>\n",
              "      <td>0.010514</td>\n",
              "      <td>-0.149315</td>\n",
              "      <td>0.087640</td>\n",
              "      <td>-0.015608</td>\n",
              "      <td>-0.022839</td>\n",
              "      <td>1.000000</td>\n",
              "      <td>-0.526964</td>\n",
              "    </tr>\n",
              "    <tr>\n",
              "      <th>DEATH_EVENT</th>\n",
              "      <td>0.253729</td>\n",
              "      <td>0.066270</td>\n",
              "      <td>0.062728</td>\n",
              "      <td>-0.001943</td>\n",
              "      <td>-0.268603</td>\n",
              "      <td>0.079351</td>\n",
              "      <td>-0.049139</td>\n",
              "      <td>0.294278</td>\n",
              "      <td>-0.195204</td>\n",
              "      <td>-0.004316</td>\n",
              "      <td>-0.012623</td>\n",
              "      <td>-0.526964</td>\n",
              "      <td>1.000000</td>\n",
              "    </tr>\n",
              "  </tbody>\n",
              "</table>\n",
              "</div>\n",
              "      <button class=\"colab-df-convert\" onclick=\"convertToInteractive('df-0520e0e0-8558-419b-9c0f-82f52dfe28d4')\"\n",
              "              title=\"Convert this dataframe to an interactive table.\"\n",
              "              style=\"display:none;\">\n",
              "        \n",
              "  <svg xmlns=\"http://www.w3.org/2000/svg\" height=\"24px\"viewBox=\"0 0 24 24\"\n",
              "       width=\"24px\">\n",
              "    <path d=\"M0 0h24v24H0V0z\" fill=\"none\"/>\n",
              "    <path d=\"M18.56 5.44l.94 2.06.94-2.06 2.06-.94-2.06-.94-.94-2.06-.94 2.06-2.06.94zm-11 1L8.5 8.5l.94-2.06 2.06-.94-2.06-.94L8.5 2.5l-.94 2.06-2.06.94zm10 10l.94 2.06.94-2.06 2.06-.94-2.06-.94-.94-2.06-.94 2.06-2.06.94z\"/><path d=\"M17.41 7.96l-1.37-1.37c-.4-.4-.92-.59-1.43-.59-.52 0-1.04.2-1.43.59L10.3 9.45l-7.72 7.72c-.78.78-.78 2.05 0 2.83L4 21.41c.39.39.9.59 1.41.59.51 0 1.02-.2 1.41-.59l7.78-7.78 2.81-2.81c.8-.78.8-2.07 0-2.86zM5.41 20L4 18.59l7.72-7.72 1.47 1.35L5.41 20z\"/>\n",
              "  </svg>\n",
              "      </button>\n",
              "      \n",
              "  <style>\n",
              "    .colab-df-container {\n",
              "      display:flex;\n",
              "      flex-wrap:wrap;\n",
              "      gap: 12px;\n",
              "    }\n",
              "\n",
              "    .colab-df-convert {\n",
              "      background-color: #E8F0FE;\n",
              "      border: none;\n",
              "      border-radius: 50%;\n",
              "      cursor: pointer;\n",
              "      display: none;\n",
              "      fill: #1967D2;\n",
              "      height: 32px;\n",
              "      padding: 0 0 0 0;\n",
              "      width: 32px;\n",
              "    }\n",
              "\n",
              "    .colab-df-convert:hover {\n",
              "      background-color: #E2EBFA;\n",
              "      box-shadow: 0px 1px 2px rgba(60, 64, 67, 0.3), 0px 1px 3px 1px rgba(60, 64, 67, 0.15);\n",
              "      fill: #174EA6;\n",
              "    }\n",
              "\n",
              "    [theme=dark] .colab-df-convert {\n",
              "      background-color: #3B4455;\n",
              "      fill: #D2E3FC;\n",
              "    }\n",
              "\n",
              "    [theme=dark] .colab-df-convert:hover {\n",
              "      background-color: #434B5C;\n",
              "      box-shadow: 0px 1px 3px 1px rgba(0, 0, 0, 0.15);\n",
              "      filter: drop-shadow(0px 1px 2px rgba(0, 0, 0, 0.3));\n",
              "      fill: #FFFFFF;\n",
              "    }\n",
              "  </style>\n",
              "\n",
              "      <script>\n",
              "        const buttonEl =\n",
              "          document.querySelector('#df-0520e0e0-8558-419b-9c0f-82f52dfe28d4 button.colab-df-convert');\n",
              "        buttonEl.style.display =\n",
              "          google.colab.kernel.accessAllowed ? 'block' : 'none';\n",
              "\n",
              "        async function convertToInteractive(key) {\n",
              "          const element = document.querySelector('#df-0520e0e0-8558-419b-9c0f-82f52dfe28d4');\n",
              "          const dataTable =\n",
              "            await google.colab.kernel.invokeFunction('convertToInteractive',\n",
              "                                                     [key], {});\n",
              "          if (!dataTable) return;\n",
              "\n",
              "          const docLinkHtml = 'Like what you see? Visit the ' +\n",
              "            '<a target=\"_blank\" href=https://colab.research.google.com/notebooks/data_table.ipynb>data table notebook</a>'\n",
              "            + ' to learn more about interactive tables.';\n",
              "          element.innerHTML = '';\n",
              "          dataTable['output_type'] = 'display_data';\n",
              "          await google.colab.output.renderOutput(dataTable, element);\n",
              "          const docLink = document.createElement('div');\n",
              "          docLink.innerHTML = docLinkHtml;\n",
              "          element.appendChild(docLink);\n",
              "        }\n",
              "      </script>\n",
              "    </div>\n",
              "  </div>\n",
              "  "
            ]
          },
          "metadata": {},
          "execution_count": 117
        }
      ]
    },
    {
      "cell_type": "markdown",
      "source": [
        "## **Zadatak 1: Modeliranje vremena provedenog u bolnici**\n",
        "\n",
        "Potrebno je provesti regresijsku analizu za modeliranje broja dana provedenih u bolnici, među populacijom pacijenata. Počnimo s uzorkom koji je predstavljen našim skupom podataka. Zanimaju nas dva prediktora: dijabetes i visoki krvni tlak. Koristite ova dva prediktora kako biste modelirali broj dana u bolnici pomoću modela linearne regresije. \n"
      ],
      "metadata": {
        "id": "_kCjRYXyc-5o"
      }
    },
    {
      "cell_type": "markdown",
      "source": [
        "Za početak, neka primjer modela bude:\n",
        "\n",
        "vrijeme ~ C (dijabetes) + C (visoki krvni tlak).\n",
        "\n",
        "Pomoću *ols()* funkcije iz biblioteke statsmodels definirajte model i procijenite parametre. "
      ],
      "metadata": {
        "id": "Ulg8CO5hdcJ3"
      }
    },
    {
      "cell_type": "code",
      "source": [
        "# nezavisne varijable - dijabetes i visoki krvni tlak\n",
        "# zavisna varijabla - broj dana u bolnici\n",
        "\n",
        "model = smf.ols('time ~ C(diabetes) + C(high_blood_pressure)', data=df).fit()\n",
        "print(model.summary())\n"
      ],
      "metadata": {
        "id": "K5HAL9NVd5aI",
        "colab": {
          "base_uri": "https://localhost:8080/"
        },
        "outputId": "ea6c25f7-aa89-42cd-a146-8b2c133014b1"
      },
      "execution_count": null,
      "outputs": [
        {
          "output_type": "stream",
          "name": "stdout",
          "text": [
            "                            OLS Regression Results                            \n",
            "==============================================================================\n",
            "Dep. Variable:                   time   R-squared:                       0.040\n",
            "Model:                            OLS   Adj. R-squared:                  0.033\n",
            "Method:                 Least Squares   F-statistic:                     6.097\n",
            "Date:                Wed, 12 Apr 2023   Prob (F-statistic):            0.00254\n",
            "Time:                        08:42:45   Log-Likelihood:                -1718.9\n",
            "No. Observations:                 299   AIC:                             3444.\n",
            "Df Residuals:                     296   BIC:                             3455.\n",
            "Df Model:                           2                                         \n",
            "Covariance Type:            nonrobust                                         \n",
            "===============================================================================================\n",
            "                                  coef    std err          t      P>|t|      [0.025      0.975]\n",
            "-----------------------------------------------------------------------------------------------\n",
            "Intercept                     139.3851      6.658     20.934      0.000     126.282     152.489\n",
            "C(diabetes)[T.1]                4.9059      8.949      0.548      0.584     -12.706      22.518\n",
            "C(high_blood_pressure)[T.1]   -31.8228      9.247     -3.441      0.001     -50.021     -13.624\n",
            "==============================================================================\n",
            "Omnibus:                      159.508   Durbin-Watson:                   0.076\n",
            "Prob(Omnibus):                  0.000   Jarque-Bera (JB):               18.166\n",
            "Skew:                           0.076   Prob(JB):                     0.000114\n",
            "Kurtosis:                       1.802   Cond. No.                         2.82\n",
            "==============================================================================\n",
            "\n",
            "Notes:\n",
            "[1] Standard Errors assume that the covariance matrix of the errors is correctly specified.\n"
          ]
        }
      ]
    },
    {
      "cell_type": "markdown",
      "source": [
        "Ispišite vrijednosti koeficijenata u modelu, p-vrijednosti F i t statističkih testova i $R_{adjusted}^2$. Komentirajte dobivene vrijednosti."
      ],
      "metadata": {
        "id": "MSAkcXsfd6xF"
      }
    },
    {
      "cell_type": "markdown",
      "source": [
        "Interpretirajte dobiveni model prema vrijednostima koeficijenata. Navedite prosječno vrijeme provedeno u bolnici za:\n",
        "\n",
        "1. Pacijente koji nemaju dijabetes ni visoki krvni tlak.\n",
        "2. Pacijente koji imaju dijabetes, ali nemaju visoki krvni tlak.\n",
        "3. Pacijente koji nemaju dijabetes, ali imaju visoki krvni tlak.\n",
        "4. Pacijente koji imaju i dijabetes i visoki krvni tlak."
      ],
      "metadata": {
        "id": "73LJEuTLeNj3"
      }
    },
    {
      "cell_type": "code",
      "source": [
        "# 1\n",
        "# Prosječno vrijeme za pacijente koji nemaju dijabetes ni visoki krvni tlak je 139.3851 dana\n",
        "# 2\n",
        "# Prosječno vrijeme za pacijente koji imaju dijabetes, ali nemaju visoki krvni tlak je 139.3851 + 4.9059 = 144.291 dana\n",
        "# 3\n",
        "# Prosječno vrijeme za pacijente koji nemaju dijabetes, ali imaju visoki krvni tlak je 139.3851 - 31.8228 = 107.5623 dana\n",
        "# 4\n",
        "# Prosječno vrijeme za pacijente koji imaju dijabetes i visoki krvni tlak je 139.3851 + 4.9059 - 31.8228 = 112.4682 dana"
      ],
      "metadata": {
        "id": "mcL24_gKudgZ"
      },
      "execution_count": null,
      "outputs": []
    },
    {
      "cell_type": "markdown",
      "source": [
        "## **Zadatak 2: Modeliranje vremena provedenog u bolnici (dodavanje interakcijskih članova)**\n",
        "\n",
        "U prethodnom modelu, moguće je zamijetiti kako osobe s povišenim krvnim tlakom kraće borave u bolnici, iako bi se moglo očekivati suprotno. Jedan od razloga zašto se ozbiljna stanja (poput hipertenzije) mogu povezati s kraćim vremenom provedenim u bolnici jest treći faktor - smrt. Pacijenti koji imaju obziljno stanje mogli bi provesti manje vremena u bolnici jer brzo umiru. Pokušajte steći bolji uvid u dani problem, ubacivanjem smrti kao još jednog prediktora u prethodnom modelu."
      ],
      "metadata": {
        "id": "ajt1Fadpe_L3"
      }
    },
    {
      "cell_type": "code",
      "source": [
        "model = smf.ols('time ~ C(diabetes) + C(high_blood_pressure) + C(DEATH_EVENT)', data=df).fit()\n",
        "print(model.summary())"
      ],
      "metadata": {
        "id": "Nl4L1EOpgIl5",
        "colab": {
          "base_uri": "https://localhost:8080/"
        },
        "outputId": "63a54051-99eb-446b-d10c-c3e7a8f1564a"
      },
      "execution_count": null,
      "outputs": [
        {
          "output_type": "stream",
          "name": "stdout",
          "text": [
            "                            OLS Regression Results                            \n",
            "==============================================================================\n",
            "Dep. Variable:                   time   R-squared:                       0.303\n",
            "Model:                            OLS   Adj. R-squared:                  0.296\n",
            "Method:                 Least Squares   F-statistic:                     42.69\n",
            "Date:                Wed, 12 Apr 2023   Prob (F-statistic):           6.12e-23\n",
            "Time:                        08:42:48   Log-Likelihood:                -1671.0\n",
            "No. Observations:                 299   AIC:                             3350.\n",
            "Df Residuals:                     295   BIC:                             3365.\n",
            "Df Model:                           3                                         \n",
            "Covariance Type:            nonrobust                                         \n",
            "===============================================================================================\n",
            "                                  coef    std err          t      P>|t|      [0.025      0.975]\n",
            "-----------------------------------------------------------------------------------------------\n",
            "Intercept                     164.5089      6.162     26.699      0.000     152.383     176.635\n",
            "C(diabetes)[T.1]                4.8305      7.638      0.632      0.528     -10.202      19.863\n",
            "C(high_blood_pressure)[T.1]   -25.1955      7.918     -3.182      0.002     -40.778      -9.613\n",
            "C(DEATH_EVENT)[T.1]           -85.4005      8.094    -10.551      0.000    -101.330     -69.471\n",
            "==============================================================================\n",
            "Omnibus:                       34.592   Durbin-Watson:                   0.484\n",
            "Prob(Omnibus):                  0.000   Jarque-Bera (JB):               11.510\n",
            "Skew:                           0.184   Prob(JB):                      0.00317\n",
            "Kurtosis:                       2.112   Cond. No.                         3.02\n",
            "==============================================================================\n",
            "\n",
            "Notes:\n",
            "[1] Standard Errors assume that the covariance matrix of the errors is correctly specified.\n"
          ]
        }
      ]
    },
    {
      "cell_type": "markdown",
      "source": [
        "Procijenite parametre pomoću funkcije *ols()* te interpretirajte dobivene koeficijente i $R_{adjusted}^2$. Opisuje li dobiveni model dani problem bolje od prethodnog modela? Je li smrt statistički značajan prediktor?"
      ],
      "metadata": {
        "id": "zL2Jl_aCgQlI"
      }
    },
    {
      "cell_type": "code",
      "source": [
        "#Možemo primjetiti kako u prethodnom zadatku R2adjusted iznosi 0.033, a u zadatku 2 iznosi 0.296 što znači da ovaj model bolje\n",
        "#opisuje dani problem nego prethodni model.\n",
        "\n",
        "#Možemo vidjeti da je smrt statistički značajan prediktor jer mu je P>|t| = 0.0 što znači da značajno utječe na predikciju \n",
        "#vremena boravka u bolnici."
      ],
      "metadata": {
        "id": "niEzCzqfP2p3"
      },
      "execution_count": null,
      "outputs": []
    },
    {
      "cell_type": "markdown",
      "source": [
        "Razmislite jesu li smrt i visoki krvni tlak međusobno nezavisne varijable. Na temelju Vašeg zaključka, razmotrite potrebu za ubacivanjem njihovog interakcijskog člana u prethodni model. Procijenite parametre modela te interpretirajte dobivene koeficijente i $R_{adjusted}^2$. Opisuje li dobiveni model dani problem bolje od prethodnog modela?"
      ],
      "metadata": {
        "id": "c8kYnxvSglhI"
      }
    },
    {
      "cell_type": "code",
      "source": [
        "#Osobno bih rekao da su povezane, ali možemo vidjeti iz modela da koeficijent iznosi 2.7778 te da P>|t| iznosi 0.868 što \n",
        "#bi značilo da statistički nije značajan"
      ],
      "metadata": {
        "id": "trsSnKfYSBzI"
      },
      "execution_count": null,
      "outputs": []
    },
    {
      "cell_type": "code",
      "source": [
        "#\n",
        "model = smf.ols('time ~ C(diabetes) + C(high_blood_pressure) + C(DEATH_EVENT) + C(DEATH_EVENT)*C(high_blood_pressure)', data=df).fit()\n",
        "print(model.summary())\n"
      ],
      "metadata": {
        "id": "P3WKxuTIhB0Y",
        "colab": {
          "base_uri": "https://localhost:8080/"
        },
        "outputId": "27c3a6fe-4757-4b11-d360-d06c8e905be8"
      },
      "execution_count": null,
      "outputs": [
        {
          "output_type": "stream",
          "name": "stdout",
          "text": [
            "                            OLS Regression Results                            \n",
            "==============================================================================\n",
            "Dep. Variable:                   time   R-squared:                       0.303\n",
            "Model:                            OLS   Adj. R-squared:                  0.293\n",
            "Method:                 Least Squares   F-statistic:                     31.92\n",
            "Date:                Wed, 12 Apr 2023   Prob (F-statistic):           4.32e-22\n",
            "Time:                        08:42:51   Log-Likelihood:                -1671.0\n",
            "No. Observations:                 299   AIC:                             3352.\n",
            "Df Residuals:                     294   BIC:                             3371.\n",
            "Df Model:                           4                                         \n",
            "Covariance Type:            nonrobust                                         \n",
            "===================================================================================================================\n",
            "                                                      coef    std err          t      P>|t|      [0.025      0.975]\n",
            "-------------------------------------------------------------------------------------------------------------------\n",
            "Intercept                                         164.8348      6.476     25.452      0.000     152.089     177.581\n",
            "C(diabetes)[T.1]                                    4.7903      7.655      0.626      0.532     -10.275      19.855\n",
            "C(high_blood_pressure)[T.1]                       -26.1462      9.781     -2.673      0.008     -45.395      -6.897\n",
            "C(DEATH_EVENT)[T.1]                               -86.4520     10.286     -8.405      0.000    -106.696     -66.208\n",
            "C(DEATH_EVENT)[T.1]:C(high_blood_pressure)[T.1]     2.7778     16.725      0.166      0.868     -30.137      35.693\n",
            "==============================================================================\n",
            "Omnibus:                       34.161   Durbin-Watson:                   0.484\n",
            "Prob(Omnibus):                  0.000   Jarque-Bera (JB):               11.463\n",
            "Skew:                           0.185   Prob(JB):                      0.00324\n",
            "Kurtosis:                       2.115   Cond. No.                         6.31\n",
            "==============================================================================\n",
            "\n",
            "Notes:\n",
            "[1] Standard Errors assume that the covariance matrix of the errors is correctly specified.\n"
          ]
        }
      ]
    },
    {
      "cell_type": "markdown",
      "source": [
        "Navedite prosječno vrijeme provedeno u bolnici za:\n",
        "\n",
        "1. Pacijente koji imaju visoki krvni tlak, a ne umiru tijekom razbolja praćenja.\n",
        "2. Pacijente koji imaju visoki krvi tlak, a umiru tijekom razdoblja praćenja."
      ],
      "metadata": {
        "id": "9K9YixOghYPp"
      }
    },
    {
      "cell_type": "code",
      "source": [
        "high_blood_pressure_coef = model.params['C(high_blood_pressure)[T.1]']\n",
        "death_event_coef = model.params['C(DEATH_EVENT)[T.1]']\n",
        "interaction_coef = model.params['C(DEATH_EVENT)[T.1]:C(high_blood_pressure)[T.1]']\n",
        "\n",
        "#Pacijenti koji imaju visoki krvni tlak, a ne umiru tijekom razdoblja praćenja\n",
        "a = model.params['Intercept'] + high_blood_pressure_coef*1 + death_event_coef*0 + interaction_coef*1*0\n",
        "#Pacijenti koji imaju visoki krvni tlak, a umiru tijekom praćenja razdoblja\n",
        "b = model.params['Intercept'] + high_blood_pressure_coef*1 + death_event_coef*1 + interaction_coef*1*1\n",
        "\n",
        "print(round(a, 2))\n",
        "print(round(b, 2))"
      ],
      "metadata": {
        "colab": {
          "base_uri": "https://localhost:8080/"
        },
        "id": "yWj453jsSs8L",
        "outputId": "75fcab52-78e3-4908-a169-f82da13863d2"
      },
      "execution_count": null,
      "outputs": [
        {
          "output_type": "stream",
          "name": "stdout",
          "text": [
            "138.69\n",
            "55.01\n"
          ]
        }
      ]
    },
    {
      "cell_type": "markdown",
      "source": [
        "## **Zadatak 3. Logaritamske transformacije**\n",
        "\n",
        "Prisjetite se da logaritamska transformacija izlazne varijable čini model multiplikativnim. Definirajte linearni model za predviđanje vremena provedenog u bolnici, a kao nezavisne varijable upotrijebite visoki krvni tlak, dijabetes i ishod smrti."
      ],
      "metadata": {
        "id": "kLvjfui0cBdH"
      }
    },
    {
      "cell_type": "code",
      "source": [
        "from numpy.linalg import inv, det\n",
        "df['Reg_intercept'] = 1\n",
        "X = df[['Reg_intercept','diabetes', 'high_blood_pressure', 'DEATH_EVENT']].to_numpy()\n",
        "Y = df['time'].to_numpy()\n",
        "X_t = np.transpose(X)\n",
        "Beta = np.matmul(np.matmul(inv(np.matmul(X_t, X)), X_t), Y)\n",
        "Beta"
      ],
      "metadata": {
        "id": "a51Nkyp6e8eK",
        "colab": {
          "base_uri": "https://localhost:8080/"
        },
        "outputId": "cb561036-a8df-4c4c-e5b0-666ce5e29071"
      },
      "execution_count": null,
      "outputs": [
        {
          "output_type": "execute_result",
          "data": {
            "text/plain": [
              "array([164.50891203,   4.83050973, -25.19549195, -85.40053914])"
            ]
          },
          "metadata": {},
          "execution_count": 125
        }
      ]
    },
    {
      "cell_type": "markdown",
      "source": [
        "Zatim izvedite logaritamsku transformaciju izlazne varijable na način da kreirate dodatni stupac (*log_time*) u skupu podataka koji sadrži logaritme vrijednosti iz stupca *time*. Ponovno definirajte model regresije kao prethodni, no ovaj puta s novodefiniranim stupcem kao izlaznom varijablom. "
      ],
      "metadata": {
        "id": "qczB3aUze9oF"
      }
    },
    {
      "cell_type": "code",
      "source": [
        "df['Reg_intercept'] = 1\n",
        "X = df[['Reg_intercept','diabetes', 'high_blood_pressure', 'DEATH_EVENT']]\n",
        "Y = df['time']\n",
        "\n",
        "model = sm.OLS(np.log(Y), X)\n",
        "results = model.fit()\n",
        "\n",
        "print(results.params)"
      ],
      "metadata": {
        "colab": {
          "base_uri": "https://localhost:8080/"
        },
        "id": "TNhEQ3CHaHRm",
        "outputId": "dfe7e9dc-e385-47ba-df1c-770e1192b72b"
      },
      "execution_count": null,
      "outputs": [
        {
          "output_type": "stream",
          "name": "stdout",
          "text": [
            "Reg_intercept          4.989133\n",
            "diabetes               0.069860\n",
            "high_blood_pressure   -0.225933\n",
            "DEATH_EVENT           -1.107518\n",
            "dtype: float64\n"
          ]
        }
      ]
    },
    {
      "cell_type": "markdown",
      "source": [
        "Za varijablu visoki tlak izračunajte koliki je njezin aditivni učinak u prvom modelu te koliki je multiplikativni učinak u drugom modelu na temelju pripadnih koeficijenata. Drugim riječima, kako se mijenja vrijednost izlazne varijable u prvom, odnosno drugom modelu, ako pacijent ima visoki krvni tlak?"
      ],
      "metadata": {
        "id": "jDn2VYKDfcHW"
      }
    },
    {
      "cell_type": "code",
      "source": [
        "aditivni_ucinak = model.params.loc['high_blood_pressure']\n",
        "multiplikativni_ucinak = 1 - np.exp(model.params.loc['high_blood_pressure'])\n",
        "\n",
        "print(\"Aditivni učinak visokog krvnog tlaka:\", aditivni_ucinak)\n",
        "print(\"Multiplikativni učinak visokog krvnog tlaka:\", multiplikativni_ucinak)"
      ],
      "metadata": {
        "id": "cykIdpqKqZGf"
      },
      "execution_count": null,
      "outputs": []
    },
    {
      "cell_type": "markdown",
      "source": [
        "## **Zadatak 4: Logistička regresija: Modeliranje ishoda smrti**\n",
        "\n",
        "Modelirajte (binarni) ishod smrti na temelju **svih** karakteristika pacijenata. Izuzmite jedino vrijeme provedeno u bolnici jer smo vidjeli kako je ono u velikoj korelaciji sa smrću.\n",
        "\n",
        "Kao prvi korak, provedite standardizaciju prediktora pomoću z-vrijednosti. To će Vam olakšati tumačenje prediktora koji su vrlo različitih skala. \n",
        "\n"
      ],
      "metadata": {
        "id": "7TDU09zlV-tH"
      }
    },
    {
      "cell_type": "code",
      "source": [
        "df['sex'] = (df['sex'] - df['sex'].mean()) / df['sex'].std()\n",
        "df['anaemia'] = (df['anaemia'] - df['anaemia'].mean()) / df['anaemia'].std()\n",
        "df['smoking'] = (df['smoking'] - df['smoking'].mean()) / df['smoking'].std()\n",
        "df['diabetes'] = (df['diabetes'] - df['diabetes'].mean()) / df['diabetes'].std()\n",
        "df['high_blood_pressure'] = (df['high_blood_pressure'] - df['high_blood_pressure'].mean()) / df['high_blood_pressure'].std()\n",
        "df['age'] = (df['age'] - df['age'].mean()) / df['age'].std()\n",
        "df['creatinine_phosphokinase'] = (df['creatinine_phosphokinase'] - df['creatinine_phosphokinase'].mean()) / df['creatinine_phosphokinase'].std()\n",
        "df['ejection_fraction'] = (df['ejection_fraction'] - df['ejection_fraction'].mean()) / df['ejection_fraction'].std()\n",
        "df['platelets'] = (df['platelets'] - df['platelets'].mean()) / df['platelets'].std()\n",
        "df['serum_creatinine'] = (df['serum_creatinine'] - df['serum_creatinine'].mean()) / df['serum_creatinine'].std()\n",
        "df['serum_sodium'] = (df['serum_sodium'] - df['serum_sodium'].mean()) / df['serum_sodium'].std()"
      ],
      "metadata": {
        "id": "i2ucRqzjWgW-"
      },
      "execution_count": null,
      "outputs": []
    },
    {
      "cell_type": "markdown",
      "source": [
        "Umjesto linearne, koristite logističku regresiju za modeliranje binarnog ishoda smrti. Napomena: koristite *logit()* funkciju iz biblioteke statsmodels. "
      ],
      "metadata": {
        "id": "v7E8XfszWhsW"
      }
    },
    {
      "cell_type": "code",
      "source": [
        "model = smf.logit(formula='DEATH_EVENT  ~ sex + anaemia + smoking + diabetes + high_blood_pressure + age + creatinine_phosphokinase + ejection_fraction + platelets + serum_creatinine + serum_sodium', data=df)\n",
        "\n",
        "res = model.fit()\n",
        "print(res.summary())"
      ],
      "metadata": {
        "id": "zx4ts1XuW509",
        "colab": {
          "base_uri": "https://localhost:8080/"
        },
        "outputId": "f9754f79-c0bc-4067-973a-ad3672c2a169"
      },
      "execution_count": null,
      "outputs": [
        {
          "output_type": "stream",
          "name": "stdout",
          "text": [
            "Optimization terminated successfully.\n",
            "         Current function value: 0.492108\n",
            "         Iterations 6\n",
            "                           Logit Regression Results                           \n",
            "==============================================================================\n",
            "Dep. Variable:            DEATH_EVENT   No. Observations:                  299\n",
            "Model:                          Logit   Df Residuals:                      287\n",
            "Method:                           MLE   Df Model:                           11\n",
            "Date:                Wed, 12 Apr 2023   Pseudo R-squ.:                  0.2160\n",
            "Time:                        08:42:59   Log-Likelihood:                -147.14\n",
            "converged:                       True   LL-Null:                       -187.67\n",
            "Covariance Type:            nonrobust   LLR p-value:                 9.169e-13\n",
            "============================================================================================\n",
            "                               coef    std err          z      P>|z|      [0.025      0.975]\n",
            "--------------------------------------------------------------------------------------------\n",
            "Intercept                   -0.9879      0.157     -6.310      0.000      -1.295      -0.681\n",
            "sex                         -0.1908      0.168     -1.137      0.255      -0.520       0.138\n",
            "anaemia                      0.2073      0.149      1.389      0.165      -0.085       0.500\n",
            "smoking                      0.0634      0.163      0.389      0.697      -0.256       0.383\n",
            "diabetes                     0.0748      0.147      0.509      0.611      -0.213       0.363\n",
            "high_blood_pressure          0.2003      0.146      1.369      0.171      -0.087       0.487\n",
            "age                          0.6624      0.156      4.241      0.000       0.356       0.969\n",
            "creatinine_phosphokinase     0.2819      0.139      2.034      0.042       0.010       0.553\n",
            "ejection_fraction           -0.8322      0.176     -4.731      0.000      -1.177      -0.487\n",
            "platelets                   -0.0694      0.158     -0.439      0.661      -0.379       0.241\n",
            "serum_creatinine             0.6847      0.179      3.817      0.000       0.333       1.036\n",
            "serum_sodium                -0.2500      0.147     -1.698      0.090      -0.539       0.039\n",
            "============================================================================================\n"
          ]
        }
      ]
    },
    {
      "cell_type": "code",
      "source": [
        "# Značajni prediktori smrti: age, creatinine_phosphokinase, ejection_fraction, serum_creatinine\n",
        "# Neznačajni prediktori smrti: sex, anaemia, smoking, diabetes, high_blood_pressure, platelets, serum_sodium "
      ],
      "metadata": {
        "id": "lD7v4TmSlQYV"
      },
      "execution_count": null,
      "outputs": []
    },
    {
      "cell_type": "markdown",
      "source": [
        "Protumačite dobivene koeficijente i $R_{adjusted}^2$. Koji su prediktori statistički značajni za modeliranje smrtnog ishoda? \n",
        "Pomoću *errorbar()* funkcije iz biblioteke matplotlib, vizualizirajte učinak svakog prediktora. Vrijednosti koeficijenata i standardne greške možete izvući iz modela regresije (*model.params.values* i *model.bse.values*). "
      ],
      "metadata": {
        "id": "qmMavT0MW7bG"
      }
    },
    {
      "cell_type": "code",
      "source": [
        "plt.figure(figsize=(15,10))\n",
        "plt.errorbar(res.params.index, res.params.values, yerr=res.bse.values)\n",
        "plt.title(\"Učinak prediktora na smrtnost\")\n",
        "plt.xlabel(\"Prediktor\")\n",
        "plt.ylabel(\"Koeficijent\")\n",
        "plt.grid(axis='y', linestyle='--')\n",
        "plt.show()"
      ],
      "metadata": {
        "id": "EmpGXRmDYD7e",
        "colab": {
          "base_uri": "https://localhost:8080/",
          "height": 873
        },
        "outputId": "c9685799-3198-4d48-c6f7-bbc9e43b869a"
      },
      "execution_count": null,
      "outputs": [
        {
          "output_type": "display_data",
          "data": {
            "text/plain": [
              "<Figure size 1500x1000 with 1 Axes>"
            ],
            "image/png": "[encoded data removed]"
          },
          "metadata": {}
        }
      ]
    },
    {
      "cell_type": "markdown",
      "source": [
        "### **Zadatak 4.1. Logistička regresija: Upravljanje prediktorima**\n",
        "\n",
        "Primijetite da nezavisne varijable (one koje se koriste kao prediktori u regresijskom modelu) često koreliraju. Primjerice, serumski kreatinin važan je pokazatelj zdravlja bubrega. Pomoću modela logističke regresije procijenite učinak serumskog kreatinina na zdravlje pacijenta. Drugim riječima, definirajte model logističke regresije koji kao izlaznu varijablu ima ishod smrti, a kao prediktor razinu kreatinina u krvi. "
      ],
      "metadata": {
        "id": "pRxKmsp-apKa"
      }
    },
    {
      "cell_type": "code",
      "source": [
        "model = smf.logit(formula='DEATH_EVENT  ~ serum_creatinine', data=df)\n",
        "\n",
        "res = model.fit()\n",
        "print(res.summary())"
      ],
      "metadata": {
        "id": "EPCU5PJHbXYA",
        "colab": {
          "base_uri": "https://localhost:8080/"
        },
        "outputId": "f1ac4d16-19c5-4f8f-c8a7-8c5ab6e33a22"
      },
      "execution_count": null,
      "outputs": [
        {
          "output_type": "stream",
          "name": "stdout",
          "text": [
            "Optimization terminated successfully.\n",
            "         Current function value: 0.580689\n",
            "         Iterations 6\n",
            "                           Logit Regression Results                           \n",
            "==============================================================================\n",
            "Dep. Variable:            DEATH_EVENT   No. Observations:                  299\n",
            "Model:                          Logit   Df Residuals:                      297\n",
            "Method:                           MLE   Df Model:                            1\n",
            "Date:                Wed, 12 Apr 2023   Pseudo R-squ.:                 0.07485\n",
            "Time:                        08:44:12   Log-Likelihood:                -173.63\n",
            "converged:                       True   LL-Null:                       -187.67\n",
            "Covariance Type:            nonrobust   LLR p-value:                 1.154e-07\n",
            "====================================================================================\n",
            "                       coef    std err          z      P>|z|      [0.025      0.975]\n",
            "------------------------------------------------------------------------------------\n",
            "Intercept           -0.7429      0.131     -5.683      0.000      -0.999      -0.487\n",
            "serum_creatinine     0.8526      0.204      4.180      0.000       0.453       1.252\n",
            "====================================================================================\n"
          ]
        }
      ]
    },
    {
      "cell_type": "markdown",
      "source": [
        "Primijetite da je serumski kreatinin u značajnoj korelaciji s godinama. Što je osoba starija, to je razina kreatinina u krvi veća. Imajući ovo na umu, ponovite logističku regresiju sada koristeći serumski kreatinin i dob kao prediktorske varijable. Što očekujete da će se dogoditi s koeficijentom serumskog kreatinina? Hoće li se smanjiti ili povećati? Što se dogodilo s $R^2$ koeficijentom modela?"
      ],
      "metadata": {
        "id": "D28kEev5bYne"
      }
    },
    {
      "cell_type": "code",
      "source": [
        "df[[\"serum_creatinine\",\"age\"]].corr()\n",
        "\n",
        "model = smf.logit(formula='DEATH_EVENT  ~ serum_creatinine + age', data=df)\n",
        "\n",
        "res = model.fit()\n",
        "print(res.summary())"
      ],
      "metadata": {
        "id": "KLuAhfP-bzG3",
        "colab": {
          "base_uri": "https://localhost:8080/"
        },
        "outputId": "a8f4de2c-3739-4046-d3f9-fb3018377766"
      },
      "execution_count": null,
      "outputs": [
        {
          "output_type": "stream",
          "name": "stdout",
          "text": [
            "Optimization terminated successfully.\n",
            "         Current function value: 0.558734\n",
            "         Iterations 6\n",
            "                           Logit Regression Results                           \n",
            "==============================================================================\n",
            "Dep. Variable:            DEATH_EVENT   No. Observations:                  299\n",
            "Model:                          Logit   Df Residuals:                      296\n",
            "Method:                           MLE   Df Model:                            2\n",
            "Date:                Wed, 12 Apr 2023   Pseudo R-squ.:                  0.1098\n",
            "Time:                        08:45:10   Log-Likelihood:                -167.06\n",
            "converged:                       True   LL-Null:                       -187.67\n",
            "Covariance Type:            nonrobust   LLR p-value:                 1.117e-09\n",
            "====================================================================================\n",
            "                       coef    std err          z      P>|z|      [0.025      0.975]\n",
            "------------------------------------------------------------------------------------\n",
            "Intercept           -0.7976      0.136     -5.880      0.000      -1.063      -0.532\n",
            "serum_creatinine     0.7384      0.197      3.751      0.000       0.353       1.124\n",
            "age                  0.4847      0.137      3.538      0.000       0.216       0.753\n",
            "====================================================================================\n"
          ]
        }
      ]
    }
  ]
}